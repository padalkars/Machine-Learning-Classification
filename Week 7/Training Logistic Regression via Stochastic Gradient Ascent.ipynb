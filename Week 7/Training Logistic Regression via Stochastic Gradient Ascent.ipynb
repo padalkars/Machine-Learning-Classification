{
 "cells": [
  {
   "cell_type": "code",
   "execution_count": 1,
   "metadata": {},
   "outputs": [],
   "source": [
    "import pandas as pd\n",
    "import numpy as np\n",
    "import os"
   ]
  },
  {
   "cell_type": "code",
   "execution_count": 2,
   "metadata": {},
   "outputs": [],
   "source": [
    "import string\n",
    "from collections import Counter"
   ]
  },
  {
   "cell_type": "code",
   "execution_count": 3,
   "metadata": {},
   "outputs": [],
   "source": [
    "#Libraries for Plotting\n",
    "import matplotlib.pyplot as plt"
   ]
  },
  {
   "cell_type": "code",
   "execution_count": 4,
   "metadata": {},
   "outputs": [],
   "source": [
    "data_path = \"/home/shrikrishna/Desktop/Coursera Machine Learning/Machine Learning: Classification/Week 2 Learning Linear Classifiers/amazon_baby_subset.csv\"\n",
    "important_words_path = \"/home/shrikrishna/Desktop/Coursera Machine Learning/Machine Learning: Classification/Week 2 Learning Linear Classifiers/important_words.json\"\n"
   ]
  },
  {
   "cell_type": "code",
   "execution_count": 5,
   "metadata": {},
   "outputs": [
    {
     "data": {
      "text/plain": [
       "'/home/shrikrishna/Desktop/Coursera Machine Learning/Machine Learning: Classification/Week 7'"
      ]
     },
     "execution_count": 5,
     "metadata": {},
     "output_type": "execute_result"
    }
   ],
   "source": [
    "os.getcwd()"
   ]
  },
  {
   "cell_type": "code",
   "execution_count": 6,
   "metadata": {},
   "outputs": [],
   "source": [
    "products = pd.read_csv(data_path + \"/amazon_baby_subset.csv\")\n",
    "important_words = pd.read_json(important_words_path + \"/important_words.json\")\n"
   ]
  },
  {
   "cell_type": "code",
   "execution_count": 7,
   "metadata": {},
   "outputs": [],
   "source": [
    "def find_missing(data):\n",
    "    features = data.columns.tolist()\n",
    "    missing_value_count = data.isna().sum()\n",
    "    missing_value_percentage = data.isna().sum()*100/(data.shape[0])\n",
    "    \n",
    "    missing_data = pd.DataFrame({'Features': features,\n",
    "                                 'Missing Value Count': missing_value_count,\n",
    "                                 'Missing Value Percentage': missing_value_percentage},\n",
    "                                 columns = ['Features', \n",
    "                                            'Missing Value Count',\n",
    "                                            'Missing Value Percentage'])\n",
    "    \n",
    "    #Sort the missing data in descending order of \"Missing Value Count\"\n",
    "    missing_data = missing_data.sort_values(by = 'Missing Value Count',\n",
    "                                            ascending = False)\n",
    "    return (missing_data)"
   ]
  },
  {
   "cell_type": "code",
   "execution_count": 8,
   "metadata": {},
   "outputs": [
    {
     "data": {
      "text/html": [
       "<div>\n",
       "<style scoped>\n",
       "    .dataframe tbody tr th:only-of-type {\n",
       "        vertical-align: middle;\n",
       "    }\n",
       "\n",
       "    .dataframe tbody tr th {\n",
       "        vertical-align: top;\n",
       "    }\n",
       "\n",
       "    .dataframe thead th {\n",
       "        text-align: right;\n",
       "    }\n",
       "</style>\n",
       "<table border=\"1\" class=\"dataframe\">\n",
       "  <thead>\n",
       "    <tr style=\"text-align: right;\">\n",
       "      <th></th>\n",
       "      <th>Features</th>\n",
       "      <th>Missing Value Count</th>\n",
       "      <th>Missing Value Percentage</th>\n",
       "    </tr>\n",
       "  </thead>\n",
       "  <tbody>\n",
       "    <tr>\n",
       "      <th>0</th>\n",
       "      <td>0</td>\n",
       "      <td>0</td>\n",
       "      <td>0.0</td>\n",
       "    </tr>\n",
       "  </tbody>\n",
       "</table>\n",
       "</div>"
      ],
      "text/plain": [
       "   Features  Missing Value Count  Missing Value Percentage\n",
       "0         0                    0                       0.0"
      ]
     },
     "execution_count": 8,
     "metadata": {},
     "output_type": "execute_result"
    }
   ],
   "source": [
    "find_missing(important_words).head()"
   ]
  },
  {
   "cell_type": "code",
   "execution_count": 9,
   "metadata": {},
   "outputs": [
    {
     "data": {
      "text/html": [
       "<div>\n",
       "<style scoped>\n",
       "    .dataframe tbody tr th:only-of-type {\n",
       "        vertical-align: middle;\n",
       "    }\n",
       "\n",
       "    .dataframe tbody tr th {\n",
       "        vertical-align: top;\n",
       "    }\n",
       "\n",
       "    .dataframe thead th {\n",
       "        text-align: right;\n",
       "    }\n",
       "</style>\n",
       "<table border=\"1\" class=\"dataframe\">\n",
       "  <thead>\n",
       "    <tr style=\"text-align: right;\">\n",
       "      <th></th>\n",
       "      <th>Features</th>\n",
       "      <th>Missing Value Count</th>\n",
       "      <th>Missing Value Percentage</th>\n",
       "    </tr>\n",
       "  </thead>\n",
       "  <tbody>\n",
       "    <tr>\n",
       "      <th>review</th>\n",
       "      <td>review</td>\n",
       "      <td>241</td>\n",
       "      <td>0.454100</td>\n",
       "    </tr>\n",
       "    <tr>\n",
       "      <th>name</th>\n",
       "      <td>name</td>\n",
       "      <td>90</td>\n",
       "      <td>0.169581</td>\n",
       "    </tr>\n",
       "    <tr>\n",
       "      <th>rating</th>\n",
       "      <td>rating</td>\n",
       "      <td>0</td>\n",
       "      <td>0.000000</td>\n",
       "    </tr>\n",
       "    <tr>\n",
       "      <th>sentiment</th>\n",
       "      <td>sentiment</td>\n",
       "      <td>0</td>\n",
       "      <td>0.000000</td>\n",
       "    </tr>\n",
       "  </tbody>\n",
       "</table>\n",
       "</div>"
      ],
      "text/plain": [
       "            Features  Missing Value Count  Missing Value Percentage\n",
       "review        review                  241                  0.454100\n",
       "name            name                   90                  0.169581\n",
       "rating        rating                    0                  0.000000\n",
       "sentiment  sentiment                    0                  0.000000"
      ]
     },
     "execution_count": 9,
     "metadata": {},
     "output_type": "execute_result"
    }
   ],
   "source": [
    "find_missing(products).head()"
   ]
  },
  {
   "cell_type": "code",
   "execution_count": 10,
   "metadata": {},
   "outputs": [],
   "source": [
    "#Fill the missing values in reviews "
   ]
  },
  {
   "cell_type": "markdown",
   "metadata": {},
   "source": [
    "Let us perform 2 simple data transformations:\n",
    "\n",
    "    Remove punctuation\n",
    "    Compute word counts (only for important_words)"
   ]
  },
  {
   "cell_type": "code",
   "execution_count": 11,
   "metadata": {},
   "outputs": [],
   "source": [
    "#Remove Punctuations\n",
    "def remove_punctuations(text):\n",
    "    punctuations = string.punctuation\n",
    "    if(type(text) == str):\n",
    "        text = ''.join(ele for ele in text if(ele not in punctuations))\n",
    "        return text\n",
    "    return str(text)"
   ]
  },
  {
   "cell_type": "code",
   "execution_count": 12,
   "metadata": {},
   "outputs": [
    {
     "data": {
      "text/html": [
       "<div>\n",
       "<style scoped>\n",
       "    .dataframe tbody tr th:only-of-type {\n",
       "        vertical-align: middle;\n",
       "    }\n",
       "\n",
       "    .dataframe tbody tr th {\n",
       "        vertical-align: top;\n",
       "    }\n",
       "\n",
       "    .dataframe thead th {\n",
       "        text-align: right;\n",
       "    }\n",
       "</style>\n",
       "<table border=\"1\" class=\"dataframe\">\n",
       "  <thead>\n",
       "    <tr style=\"text-align: right;\">\n",
       "      <th></th>\n",
       "      <th>review</th>\n",
       "      <th>review_clean</th>\n",
       "    </tr>\n",
       "  </thead>\n",
       "  <tbody>\n",
       "    <tr>\n",
       "      <th>0</th>\n",
       "      <td>All of my kids have cried non-stop when I trie...</td>\n",
       "      <td>All of my kids have cried nonstop when I tried...</td>\n",
       "    </tr>\n",
       "    <tr>\n",
       "      <th>1</th>\n",
       "      <td>We wanted to get something to keep track of ou...</td>\n",
       "      <td>We wanted to get something to keep track of ou...</td>\n",
       "    </tr>\n",
       "    <tr>\n",
       "      <th>2</th>\n",
       "      <td>My daughter had her 1st baby over a year ago. ...</td>\n",
       "      <td>My daughter had her 1st baby over a year ago S...</td>\n",
       "    </tr>\n",
       "    <tr>\n",
       "      <th>3</th>\n",
       "      <td>One of baby's first and favorite books, and it...</td>\n",
       "      <td>One of babys first and favorite books and it i...</td>\n",
       "    </tr>\n",
       "    <tr>\n",
       "      <th>4</th>\n",
       "      <td>Very cute interactive book! My son loves this ...</td>\n",
       "      <td>Very cute interactive book My son loves this b...</td>\n",
       "    </tr>\n",
       "  </tbody>\n",
       "</table>\n",
       "</div>"
      ],
      "text/plain": [
       "                                              review  \\\n",
       "0  All of my kids have cried non-stop when I trie...   \n",
       "1  We wanted to get something to keep track of ou...   \n",
       "2  My daughter had her 1st baby over a year ago. ...   \n",
       "3  One of baby's first and favorite books, and it...   \n",
       "4  Very cute interactive book! My son loves this ...   \n",
       "\n",
       "                                        review_clean  \n",
       "0  All of my kids have cried nonstop when I tried...  \n",
       "1  We wanted to get something to keep track of ou...  \n",
       "2  My daughter had her 1st baby over a year ago S...  \n",
       "3  One of babys first and favorite books and it i...  \n",
       "4  Very cute interactive book My son loves this b...  "
      ]
     },
     "execution_count": 12,
     "metadata": {},
     "output_type": "execute_result"
    }
   ],
   "source": [
    "#Apply the remove_punctuation function on every element of\n",
    "#the review column and assign the result to the new column review_clean.\n",
    "products['review_clean'] = products['review'].apply(remove_punctuations)\n",
    "products[['review', 'review_clean']].head()"
   ]
  },
  {
   "cell_type": "markdown",
   "metadata": {},
   "source": [
    "### 4. Now we proceed with the second item. For each word in important_words, we compute a count for the number of times the word occurs in the review. We will store this count in a separate column (one for each word)."
   ]
  },
  {
   "cell_type": "code",
   "execution_count": 13,
   "metadata": {},
   "outputs": [
    {
     "name": "stdout",
     "output_type": "stream",
     "text": [
      "18715\n"
     ]
    }
   ],
   "source": [
    "def word_count(text):\n",
    "    word_count = dict(Counter(text.split()))\n",
    "    if(word in word_count.keys()):\n",
    "        return word_count[word]\n",
    "    return 0\n",
    "f = 0\n",
    "for word in important_words.iloc[:, 0]:\n",
    "    if(not f):\n",
    "        print(sum(list(map(word_count, products['review_clean']))))\n",
    "        f = 1\n",
    "    products[word] = list(map(word_count, products['review_clean']))\n",
    "\n"
   ]
  },
  {
   "cell_type": "code",
   "execution_count": 14,
   "metadata": {},
   "outputs": [
    {
     "data": {
      "text/plain": [
       "198"
      ]
     },
     "execution_count": 14,
     "metadata": {},
     "output_type": "execute_result"
    }
   ],
   "source": [
    "len(products.columns)"
   ]
  },
  {
   "cell_type": "code",
   "execution_count": 15,
   "metadata": {},
   "outputs": [],
   "source": [
    "train_index = pd.read_json(os.getcwd() + \"/train-idx.json/train-idx.json\") \n",
    "test_index = pd.read_json(os.getcwd() + \"/validation-idx.json/validation-idx.json\")\n"
   ]
  },
  {
   "cell_type": "code",
   "execution_count": 16,
   "metadata": {},
   "outputs": [],
   "source": [
    "train_data = products.iloc[train_index[0].tolist(), :]"
   ]
  },
  {
   "cell_type": "code",
   "execution_count": 17,
   "metadata": {},
   "outputs": [],
   "source": [
    "test_data = products.iloc[test_index[0].tolist(), :]"
   ]
  },
  {
   "cell_type": "code",
   "execution_count": 18,
   "metadata": {},
   "outputs": [
    {
     "data": {
      "text/plain": [
       "(47780, 198)"
      ]
     },
     "execution_count": 18,
     "metadata": {},
     "output_type": "execute_result"
    }
   ],
   "source": [
    "train_data.shape"
   ]
  },
  {
   "cell_type": "code",
   "execution_count": 19,
   "metadata": {},
   "outputs": [
    {
     "data": {
      "text/plain": [
       "(5292, 198)"
      ]
     },
     "execution_count": 19,
     "metadata": {},
     "output_type": "execute_result"
    }
   ],
   "source": [
    "test_data.shape"
   ]
  },
  {
   "cell_type": "markdown",
   "metadata": {},
   "source": [
    "### Convert train_data and validation_data into multi-dimensional arrays."
   ]
  },
  {
   "cell_type": "code",
   "execution_count": 20,
   "metadata": {},
   "outputs": [
    {
     "data": {
      "text/plain": [
       "['constant',\n",
       " 'baby',\n",
       " 'one',\n",
       " 'great',\n",
       " 'love',\n",
       " 'use',\n",
       " 'would',\n",
       " 'like',\n",
       " 'easy',\n",
       " 'little',\n",
       " 'seat',\n",
       " 'old',\n",
       " 'well',\n",
       " 'get',\n",
       " 'also',\n",
       " 'really',\n",
       " 'son',\n",
       " 'time',\n",
       " 'bought',\n",
       " 'product',\n",
       " 'good',\n",
       " 'daughter',\n",
       " 'much',\n",
       " 'loves',\n",
       " 'stroller',\n",
       " 'put',\n",
       " 'months',\n",
       " 'car',\n",
       " 'still',\n",
       " 'back',\n",
       " 'used',\n",
       " 'recommend',\n",
       " 'first',\n",
       " 'even',\n",
       " 'perfect',\n",
       " 'nice',\n",
       " 'bag',\n",
       " 'two',\n",
       " 'using',\n",
       " 'got',\n",
       " 'fit',\n",
       " 'around',\n",
       " 'diaper',\n",
       " 'enough',\n",
       " 'month',\n",
       " 'price',\n",
       " 'go',\n",
       " 'could',\n",
       " 'soft',\n",
       " 'since',\n",
       " 'buy',\n",
       " 'room',\n",
       " 'works',\n",
       " 'made',\n",
       " 'child',\n",
       " 'keep',\n",
       " 'size',\n",
       " 'small',\n",
       " 'need',\n",
       " 'year',\n",
       " 'big',\n",
       " 'make',\n",
       " 'take',\n",
       " 'easily',\n",
       " 'think',\n",
       " 'crib',\n",
       " 'clean',\n",
       " 'way',\n",
       " 'quality',\n",
       " 'thing',\n",
       " 'better',\n",
       " 'without',\n",
       " 'set',\n",
       " 'new',\n",
       " 'every',\n",
       " 'cute',\n",
       " 'best',\n",
       " 'bottles',\n",
       " 'work',\n",
       " 'purchased',\n",
       " 'right',\n",
       " 'lot',\n",
       " 'side',\n",
       " 'happy',\n",
       " 'comfortable',\n",
       " 'toy',\n",
       " 'able',\n",
       " 'kids',\n",
       " 'bit',\n",
       " 'night',\n",
       " 'long',\n",
       " 'fits',\n",
       " 'see',\n",
       " 'us',\n",
       " 'another',\n",
       " 'play',\n",
       " 'day',\n",
       " 'money',\n",
       " 'monitor',\n",
       " 'tried',\n",
       " 'thought',\n",
       " 'never',\n",
       " 'item',\n",
       " 'hard',\n",
       " 'plastic',\n",
       " 'however',\n",
       " 'disappointed',\n",
       " 'reviews',\n",
       " 'something',\n",
       " 'going',\n",
       " 'pump',\n",
       " 'bottle',\n",
       " 'cup',\n",
       " 'waste',\n",
       " 'return',\n",
       " 'amazon',\n",
       " 'different',\n",
       " 'top',\n",
       " 'want',\n",
       " 'problem',\n",
       " 'know',\n",
       " 'water',\n",
       " 'try',\n",
       " 'received',\n",
       " 'sure',\n",
       " 'times',\n",
       " 'chair',\n",
       " 'find',\n",
       " 'hold',\n",
       " 'gate',\n",
       " 'open',\n",
       " 'bottom',\n",
       " 'away',\n",
       " 'actually',\n",
       " 'cheap',\n",
       " 'worked',\n",
       " 'getting',\n",
       " 'ordered',\n",
       " 'came',\n",
       " 'milk',\n",
       " 'bad',\n",
       " 'part',\n",
       " 'worth',\n",
       " 'found',\n",
       " 'cover',\n",
       " 'many',\n",
       " 'design',\n",
       " 'looking',\n",
       " 'weeks',\n",
       " 'say',\n",
       " 'wanted',\n",
       " 'look',\n",
       " 'place',\n",
       " 'purchase',\n",
       " 'looks',\n",
       " 'second',\n",
       " 'piece',\n",
       " 'box',\n",
       " 'pretty',\n",
       " 'trying',\n",
       " 'difficult',\n",
       " 'together',\n",
       " 'though',\n",
       " 'give',\n",
       " 'started',\n",
       " 'anything',\n",
       " 'last',\n",
       " 'company',\n",
       " 'come',\n",
       " 'returned',\n",
       " 'maybe',\n",
       " 'took',\n",
       " 'broke',\n",
       " 'makes',\n",
       " 'stay',\n",
       " 'instead',\n",
       " 'idea',\n",
       " 'head',\n",
       " 'said',\n",
       " 'less',\n",
       " 'went',\n",
       " 'working',\n",
       " 'high',\n",
       " 'unit',\n",
       " 'seems',\n",
       " 'picture',\n",
       " 'completely',\n",
       " 'wish',\n",
       " 'buying',\n",
       " 'babies',\n",
       " 'won',\n",
       " 'tub',\n",
       " 'almost',\n",
       " 'either']"
      ]
     },
     "execution_count": 20,
     "metadata": {},
     "output_type": "execute_result"
    }
   ],
   "source": [
    "['constant'] + important_words[0].tolist()"
   ]
  },
  {
   "cell_type": "code",
   "execution_count": 21,
   "metadata": {},
   "outputs": [
    {
     "data": {
      "text/html": [
       "<div>\n",
       "<style scoped>\n",
       "    .dataframe tbody tr th:only-of-type {\n",
       "        vertical-align: middle;\n",
       "    }\n",
       "\n",
       "    .dataframe tbody tr th {\n",
       "        vertical-align: top;\n",
       "    }\n",
       "\n",
       "    .dataframe thead th {\n",
       "        text-align: right;\n",
       "    }\n",
       "</style>\n",
       "<table border=\"1\" class=\"dataframe\">\n",
       "  <thead>\n",
       "    <tr style=\"text-align: right;\">\n",
       "      <th></th>\n",
       "      <th>name</th>\n",
       "      <th>review</th>\n",
       "      <th>rating</th>\n",
       "      <th>sentiment</th>\n",
       "      <th>review_clean</th>\n",
       "      <th>baby</th>\n",
       "      <th>one</th>\n",
       "      <th>great</th>\n",
       "      <th>love</th>\n",
       "      <th>use</th>\n",
       "      <th>...</th>\n",
       "      <th>seems</th>\n",
       "      <th>picture</th>\n",
       "      <th>completely</th>\n",
       "      <th>wish</th>\n",
       "      <th>buying</th>\n",
       "      <th>babies</th>\n",
       "      <th>won</th>\n",
       "      <th>tub</th>\n",
       "      <th>almost</th>\n",
       "      <th>either</th>\n",
       "    </tr>\n",
       "  </thead>\n",
       "  <tbody>\n",
       "    <tr>\n",
       "      <th>0</th>\n",
       "      <td>Stop Pacifier Sucking without tears with Thumb...</td>\n",
       "      <td>All of my kids have cried non-stop when I trie...</td>\n",
       "      <td>5</td>\n",
       "      <td>1</td>\n",
       "      <td>All of my kids have cried nonstop when I tried...</td>\n",
       "      <td>0</td>\n",
       "      <td>0</td>\n",
       "      <td>1</td>\n",
       "      <td>0</td>\n",
       "      <td>0</td>\n",
       "      <td>...</td>\n",
       "      <td>0</td>\n",
       "      <td>0</td>\n",
       "      <td>0</td>\n",
       "      <td>0</td>\n",
       "      <td>0</td>\n",
       "      <td>0</td>\n",
       "      <td>0</td>\n",
       "      <td>0</td>\n",
       "      <td>0</td>\n",
       "      <td>0</td>\n",
       "    </tr>\n",
       "    <tr>\n",
       "      <th>1</th>\n",
       "      <td>Nature's Lullabies Second Year Sticker Calendar</td>\n",
       "      <td>We wanted to get something to keep track of ou...</td>\n",
       "      <td>5</td>\n",
       "      <td>1</td>\n",
       "      <td>We wanted to get something to keep track of ou...</td>\n",
       "      <td>0</td>\n",
       "      <td>0</td>\n",
       "      <td>0</td>\n",
       "      <td>0</td>\n",
       "      <td>0</td>\n",
       "      <td>...</td>\n",
       "      <td>0</td>\n",
       "      <td>0</td>\n",
       "      <td>0</td>\n",
       "      <td>0</td>\n",
       "      <td>0</td>\n",
       "      <td>0</td>\n",
       "      <td>0</td>\n",
       "      <td>0</td>\n",
       "      <td>0</td>\n",
       "      <td>0</td>\n",
       "    </tr>\n",
       "    <tr>\n",
       "      <th>2</th>\n",
       "      <td>Nature's Lullabies Second Year Sticker Calendar</td>\n",
       "      <td>My daughter had her 1st baby over a year ago. ...</td>\n",
       "      <td>5</td>\n",
       "      <td>1</td>\n",
       "      <td>My daughter had her 1st baby over a year ago S...</td>\n",
       "      <td>1</td>\n",
       "      <td>0</td>\n",
       "      <td>0</td>\n",
       "      <td>0</td>\n",
       "      <td>0</td>\n",
       "      <td>...</td>\n",
       "      <td>0</td>\n",
       "      <td>0</td>\n",
       "      <td>0</td>\n",
       "      <td>0</td>\n",
       "      <td>0</td>\n",
       "      <td>0</td>\n",
       "      <td>0</td>\n",
       "      <td>0</td>\n",
       "      <td>0</td>\n",
       "      <td>0</td>\n",
       "    </tr>\n",
       "    <tr>\n",
       "      <th>3</th>\n",
       "      <td>Lamaze Peekaboo, I Love You</td>\n",
       "      <td>One of baby's first and favorite books, and it...</td>\n",
       "      <td>4</td>\n",
       "      <td>1</td>\n",
       "      <td>One of babys first and favorite books and it i...</td>\n",
       "      <td>0</td>\n",
       "      <td>0</td>\n",
       "      <td>0</td>\n",
       "      <td>0</td>\n",
       "      <td>0</td>\n",
       "      <td>...</td>\n",
       "      <td>0</td>\n",
       "      <td>0</td>\n",
       "      <td>0</td>\n",
       "      <td>0</td>\n",
       "      <td>0</td>\n",
       "      <td>0</td>\n",
       "      <td>0</td>\n",
       "      <td>0</td>\n",
       "      <td>0</td>\n",
       "      <td>0</td>\n",
       "    </tr>\n",
       "    <tr>\n",
       "      <th>4</th>\n",
       "      <td>SoftPlay Peek-A-Boo Where's Elmo A Children's ...</td>\n",
       "      <td>Very cute interactive book! My son loves this ...</td>\n",
       "      <td>5</td>\n",
       "      <td>1</td>\n",
       "      <td>Very cute interactive book My son loves this b...</td>\n",
       "      <td>0</td>\n",
       "      <td>0</td>\n",
       "      <td>1</td>\n",
       "      <td>0</td>\n",
       "      <td>0</td>\n",
       "      <td>...</td>\n",
       "      <td>0</td>\n",
       "      <td>0</td>\n",
       "      <td>0</td>\n",
       "      <td>0</td>\n",
       "      <td>0</td>\n",
       "      <td>1</td>\n",
       "      <td>0</td>\n",
       "      <td>0</td>\n",
       "      <td>0</td>\n",
       "      <td>0</td>\n",
       "    </tr>\n",
       "  </tbody>\n",
       "</table>\n",
       "<p>5 rows × 198 columns</p>\n",
       "</div>"
      ],
      "text/plain": [
       "                                                name  \\\n",
       "0  Stop Pacifier Sucking without tears with Thumb...   \n",
       "1    Nature's Lullabies Second Year Sticker Calendar   \n",
       "2    Nature's Lullabies Second Year Sticker Calendar   \n",
       "3                        Lamaze Peekaboo, I Love You   \n",
       "4  SoftPlay Peek-A-Boo Where's Elmo A Children's ...   \n",
       "\n",
       "                                              review  rating  sentiment  \\\n",
       "0  All of my kids have cried non-stop when I trie...       5          1   \n",
       "1  We wanted to get something to keep track of ou...       5          1   \n",
       "2  My daughter had her 1st baby over a year ago. ...       5          1   \n",
       "3  One of baby's first and favorite books, and it...       4          1   \n",
       "4  Very cute interactive book! My son loves this ...       5          1   \n",
       "\n",
       "                                        review_clean  baby  one  great  love  \\\n",
       "0  All of my kids have cried nonstop when I tried...     0    0      1     0   \n",
       "1  We wanted to get something to keep track of ou...     0    0      0     0   \n",
       "2  My daughter had her 1st baby over a year ago S...     1    0      0     0   \n",
       "3  One of babys first and favorite books and it i...     0    0      0     0   \n",
       "4  Very cute interactive book My son loves this b...     0    0      1     0   \n",
       "\n",
       "   use   ...    seems  picture  completely  wish  buying  babies  won  tub  \\\n",
       "0    0   ...        0        0           0     0       0       0    0    0   \n",
       "1    0   ...        0        0           0     0       0       0    0    0   \n",
       "2    0   ...        0        0           0     0       0       0    0    0   \n",
       "3    0   ...        0        0           0     0       0       0    0    0   \n",
       "4    0   ...        0        0           0     0       0       1    0    0   \n",
       "\n",
       "   almost  either  \n",
       "0       0       0  \n",
       "1       0       0  \n",
       "2       0       0  \n",
       "3       0       0  \n",
       "4       0       0  \n",
       "\n",
       "[5 rows x 198 columns]"
      ]
     },
     "execution_count": 21,
     "metadata": {},
     "output_type": "execute_result"
    }
   ],
   "source": [
    "train_data.head()"
   ]
  },
  {
   "cell_type": "code",
   "execution_count": null,
   "metadata": {},
   "outputs": [],
   "source": []
  },
  {
   "cell_type": "code",
   "execution_count": 22,
   "metadata": {},
   "outputs": [],
   "source": [
    "def get_numpy_data(data, important_words, target_sentiment):\n",
    "    ##Prepend a constant column\n",
    "    data['constant'] = 1\n",
    "    features = ['constant'] + important_words.tolist()\n",
    "    \n",
    "    feature_matrix = np.array(data[features])\n",
    "    sentiment_matrix = np.array(data[target_sentiment])\n",
    "    \n",
    "    return (feature_matrix, sentiment_matrix)"
   ]
  },
  {
   "cell_type": "code",
   "execution_count": 23,
   "metadata": {},
   "outputs": [
    {
     "name": "stderr",
     "output_type": "stream",
     "text": [
      "/home/shrikrishna/anaconda3/lib/python3.6/site-packages/ipykernel_launcher.py:3: SettingWithCopyWarning: \n",
      "A value is trying to be set on a copy of a slice from a DataFrame.\n",
      "Try using .loc[row_indexer,col_indexer] = value instead\n",
      "\n",
      "See the caveats in the documentation: http://pandas.pydata.org/pandas-docs/stable/indexing.html#indexing-view-versus-copy\n",
      "  This is separate from the ipykernel package so we can avoid doing imports until\n"
     ]
    }
   ],
   "source": [
    "train_matrix, train_sentiment = get_numpy_data(train_data, important_words[0],\\\n",
    "                                               'sentiment')\n",
    "test_matrix, test_sentiment = get_numpy_data(test_data, important_words[0],\\\n",
    "                                            'sentiment')\n"
   ]
  },
  {
   "cell_type": "code",
   "execution_count": 24,
   "metadata": {},
   "outputs": [
    {
     "data": {
      "text/plain": [
       "array([[1, 0, 1, ..., 0, 0, 0],\n",
       "       [1, 0, 0, ..., 0, 0, 0],\n",
       "       [1, 0, 0, ..., 0, 0, 0],\n",
       "       ...,\n",
       "       [1, 0, 1, ..., 0, 0, 0],\n",
       "       [1, 0, 0, ..., 0, 0, 0],\n",
       "       [1, 0, 0, ..., 0, 0, 0]])"
      ]
     },
     "execution_count": 24,
     "metadata": {},
     "output_type": "execute_result"
    }
   ],
   "source": [
    "test_matrix"
   ]
  },
  {
   "cell_type": "markdown",
   "metadata": {},
   "source": [
    "### Probability"
   ]
  },
  {
   "cell_type": "code",
   "execution_count": 25,
   "metadata": {},
   "outputs": [],
   "source": [
    "def predict_probability(weights, features):\n",
    "    score = np.dot(weights, features)\n",
    "    return (1 + np.e ** ((-1)*(score))) ** (-1)"
   ]
  },
  {
   "cell_type": "markdown",
   "metadata": {},
   "source": [
    "### The derivative of log likelihood with respect to a single coefficient is as follows\n",
    "\n",
    "9. Let us now work on making minor changes to how the derivative computation is performed for logistic regression."
   ]
  },
  {
   "cell_type": "code",
   "execution_count": 26,
   "metadata": {},
   "outputs": [],
   "source": [
    "def feature_derivative(errors, feature_j):\n",
    "    return np.dot(errors, feature_j)"
   ]
  },
  {
   "cell_type": "code",
   "execution_count": 27,
   "metadata": {},
   "outputs": [],
   "source": [
    "def average_log_likelihood(feature_matrix, sentiment, weights):\n",
    "    probability = predict_probability(weights, features)\n",
    "    \n",
    "    '''\n",
    "    # Simple check to prevent overflow\n",
    "    mask = np.isinf(logexp)\n",
    "    logexp[mask] = -scores[mask]\n",
    "    '''\n",
    "    \n",
    "    indicator = [sentiment==1]\n",
    "    scores = np.dot(feature_matrix, weights)\n",
    "    \n",
    "    lp = (1/(len(feature_matrix))) * np.sum(((indicator - 1) * scores)\\\n",
    "                                            + np.log(probability))\n",
    "    \n",
    "    return lp"
   ]
  },
  {
   "cell_type": "code",
   "execution_count": 28,
   "metadata": {},
   "outputs": [
    {
     "data": {
      "text/plain": [
       "['name',\n",
       " 'review',\n",
       " 'rating',\n",
       " 'sentiment',\n",
       " 'review_clean',\n",
       " 'baby',\n",
       " 'one',\n",
       " 'great',\n",
       " 'love',\n",
       " 'use',\n",
       " 'would',\n",
       " 'like',\n",
       " 'easy',\n",
       " 'little',\n",
       " 'seat',\n",
       " 'old',\n",
       " 'well',\n",
       " 'get',\n",
       " 'also',\n",
       " 'really',\n",
       " 'son',\n",
       " 'time',\n",
       " 'bought',\n",
       " 'product',\n",
       " 'good',\n",
       " 'daughter',\n",
       " 'much',\n",
       " 'loves',\n",
       " 'stroller',\n",
       " 'put',\n",
       " 'months',\n",
       " 'car',\n",
       " 'still',\n",
       " 'back',\n",
       " 'used',\n",
       " 'recommend',\n",
       " 'first',\n",
       " 'even',\n",
       " 'perfect',\n",
       " 'nice',\n",
       " 'bag',\n",
       " 'two',\n",
       " 'using',\n",
       " 'got',\n",
       " 'fit',\n",
       " 'around',\n",
       " 'diaper',\n",
       " 'enough',\n",
       " 'month',\n",
       " 'price',\n",
       " 'go',\n",
       " 'could',\n",
       " 'soft',\n",
       " 'since',\n",
       " 'buy',\n",
       " 'room',\n",
       " 'works',\n",
       " 'made',\n",
       " 'child',\n",
       " 'keep',\n",
       " 'size',\n",
       " 'small',\n",
       " 'need',\n",
       " 'year',\n",
       " 'big',\n",
       " 'make',\n",
       " 'take',\n",
       " 'easily',\n",
       " 'think',\n",
       " 'crib',\n",
       " 'clean',\n",
       " 'way',\n",
       " 'quality',\n",
       " 'thing',\n",
       " 'better',\n",
       " 'without',\n",
       " 'set',\n",
       " 'new',\n",
       " 'every',\n",
       " 'cute',\n",
       " 'best',\n",
       " 'bottles',\n",
       " 'work',\n",
       " 'purchased',\n",
       " 'right',\n",
       " 'lot',\n",
       " 'side',\n",
       " 'happy',\n",
       " 'comfortable',\n",
       " 'toy',\n",
       " 'able',\n",
       " 'kids',\n",
       " 'bit',\n",
       " 'night',\n",
       " 'long',\n",
       " 'fits',\n",
       " 'see',\n",
       " 'us',\n",
       " 'another',\n",
       " 'play',\n",
       " 'day',\n",
       " 'money',\n",
       " 'monitor',\n",
       " 'tried',\n",
       " 'thought',\n",
       " 'never',\n",
       " 'item',\n",
       " 'hard',\n",
       " 'plastic',\n",
       " 'however',\n",
       " 'disappointed',\n",
       " 'reviews',\n",
       " 'something',\n",
       " 'going',\n",
       " 'pump',\n",
       " 'bottle',\n",
       " 'cup',\n",
       " 'waste',\n",
       " 'return',\n",
       " 'amazon',\n",
       " 'different',\n",
       " 'top',\n",
       " 'want',\n",
       " 'problem',\n",
       " 'know',\n",
       " 'water',\n",
       " 'try',\n",
       " 'received',\n",
       " 'sure',\n",
       " 'times',\n",
       " 'chair',\n",
       " 'find',\n",
       " 'hold',\n",
       " 'gate',\n",
       " 'open',\n",
       " 'bottom',\n",
       " 'away',\n",
       " 'actually',\n",
       " 'cheap',\n",
       " 'worked',\n",
       " 'getting',\n",
       " 'ordered',\n",
       " 'came',\n",
       " 'milk',\n",
       " 'bad',\n",
       " 'part',\n",
       " 'worth',\n",
       " 'found',\n",
       " 'cover',\n",
       " 'many',\n",
       " 'design',\n",
       " 'looking',\n",
       " 'weeks',\n",
       " 'say',\n",
       " 'wanted',\n",
       " 'look',\n",
       " 'place',\n",
       " 'purchase',\n",
       " 'looks',\n",
       " 'second',\n",
       " 'piece',\n",
       " 'box',\n",
       " 'pretty',\n",
       " 'trying',\n",
       " 'difficult',\n",
       " 'together',\n",
       " 'though',\n",
       " 'give',\n",
       " 'started',\n",
       " 'anything',\n",
       " 'last',\n",
       " 'company',\n",
       " 'come',\n",
       " 'returned',\n",
       " 'maybe',\n",
       " 'took',\n",
       " 'broke',\n",
       " 'makes',\n",
       " 'stay',\n",
       " 'instead',\n",
       " 'idea',\n",
       " 'head',\n",
       " 'said',\n",
       " 'less',\n",
       " 'went',\n",
       " 'working',\n",
       " 'high',\n",
       " 'unit',\n",
       " 'seems',\n",
       " 'picture',\n",
       " 'completely',\n",
       " 'wish',\n",
       " 'buying',\n",
       " 'babies',\n",
       " 'won',\n",
       " 'tub',\n",
       " 'almost',\n",
       " 'either',\n",
       " 'constant']"
      ]
     },
     "execution_count": 28,
     "metadata": {},
     "output_type": "execute_result"
    }
   ],
   "source": [
    "train_data.columns.tolist()"
   ]
  },
  {
   "cell_type": "code",
   "execution_count": 29,
   "metadata": {},
   "outputs": [
    {
     "data": {
      "text/plain": [
       "['sentiment']"
      ]
     },
     "execution_count": 29,
     "metadata": {},
     "output_type": "execute_result"
    }
   ],
   "source": [
    "# list(map(lambda col:col if(col.startswith('sentiment')) else \"Shiv\",\\\n",
    "#         train_data.columns.tolist()))\n",
    "[col for col in train_data.columns.tolist() if(col.startswith('sentiment'))]"
   ]
  },
  {
   "cell_type": "code",
   "execution_count": 30,
   "metadata": {},
   "outputs": [
    {
     "name": "stderr",
     "output_type": "stream",
     "text": [
      "/home/shrikrishna/anaconda3/lib/python3.6/site-packages/ipykernel_launcher.py:3: SettingWithCopyWarning: \n",
      "A value is trying to be set on a copy of a slice from a DataFrame.\n",
      "Try using .loc[row_indexer,col_indexer] = value instead\n",
      "\n",
      "See the caveats in the documentation: http://pandas.pydata.org/pandas-docs/stable/indexing.html#indexing-view-versus-copy\n",
      "  This is separate from the ipykernel package so we can avoid doing imports until\n"
     ]
    }
   ],
   "source": [
    "feature_matrix_train, sentiment_train = get_numpy_data(train_data,\\\n",
    "                                                       important_words[0],\\\n",
    "                                                      'sentiment') \n",
    "feature_matrix_test, sentiment_test = get_numpy_data(test_data,\\\n",
    "                                                    important_words[0],\\\n",
    "                                                    'sentiment')"
   ]
  },
  {
   "cell_type": "code",
   "execution_count": 31,
   "metadata": {},
   "outputs": [
    {
     "data": {
      "text/plain": [
       "[(47780, 194), (5292, 194)]"
      ]
     },
     "execution_count": 31,
     "metadata": {},
     "output_type": "execute_result"
    }
   ],
   "source": [
    "list(map(lambda x: x.shape, [feature_matrix_train, feature_matrix_test]))"
   ]
  },
  {
   "cell_type": "code",
   "execution_count": null,
   "metadata": {},
   "outputs": [],
   "source": []
  },
  {
   "cell_type": "markdown",
   "metadata": {},
   "source": [
    "### Quiz question: How are the functions ℓℓ(w) and ℓℓA(w) related?"
   ]
  },
  {
   "cell_type": "code",
   "execution_count": 32,
   "metadata": {},
   "outputs": [
    {
     "name": "stdout",
     "output_type": "stream",
     "text": [
      "llA(w) = ll(w)/N\n"
     ]
    }
   ],
   "source": [
    "print(\"llA(w) = ll(w)/N\")"
   ]
  },
  {
   "cell_type": "markdown",
   "metadata": {},
   "source": [
    "### Computing the gradient for a single data point\n",
    "\n",
    "    1. First, compute P(yi=+1|xi,w)$ using the predict_probability function with feature_matrix_train[i:i+1,:] as the first parameter.\n",
    "    \n",
    "    2. Next, compute the indicator value 1[yi=+1] using sentiment_train[i:i+1].\n",
    "    \n",
    "    3. Finally, call the feature_derivative function with feature_matrix_train[i:i+1,j] as one of the parameters."
   ]
  },
  {
   "cell_type": "code",
   "execution_count": 33,
   "metadata": {},
   "outputs": [],
   "source": [
    "coefficients = np.zeros(194)"
   ]
  },
  {
   "cell_type": "code",
   "execution_count": 34,
   "metadata": {},
   "outputs": [
    {
     "data": {
      "text/plain": [
       "array([0.])"
      ]
     },
     "execution_count": 34,
     "metadata": {},
     "output_type": "execute_result"
    }
   ],
   "source": [
    "temp_weights = np.ones(194)\n",
    "temp_weights = temp_weights.reshape(1, 194)\n",
    "np.dot(temp_weights, coefficients)"
   ]
  },
  {
   "cell_type": "code",
   "execution_count": 35,
   "metadata": {},
   "outputs": [
    {
     "name": "stdout",
     "output_type": "stream",
     "text": [
      "47780\n"
     ]
    }
   ],
   "source": [
    "temp_target = train_data['sentiment']\n",
    "print(temp_target.shape[0])\n",
    "\n",
    "#print(\"Shapes:- %d\\t%d\" %(temp_target.shape[0], temp_target.shape[1]))"
   ]
  },
  {
   "cell_type": "code",
   "execution_count": 36,
   "metadata": {},
   "outputs": [],
   "source": [
    "\n",
    "coefficients = coefficients.reshape(1, 194)\n",
    "j = 1 #First Feature\n",
    "def compute_gradient_single(feature_matrix, ind, \\\n",
    "                            sentiment_matrix, weights = coefficients):\n",
    "    print(\"Step 1:- Compute Probability\")\n",
    "    feature_matrix_reshaped = feature_matrix[ind:ind+1, :].reshape(194, 1)\n",
    "    \n",
    "    predictions = predict_probability(weights,\\\n",
    "                                      feature_matrix_reshaped)\n",
    "    print(\"A few predictions:-\")\n",
    "    print(predictions[:10])\n",
    "    \n",
    "    print(\"Step 2:- Compute Indicator\")\n",
    "    indicator = [sentiment_matrix[ind:ind+1] == 1]\n",
    "    print(\"Indicator:-\")\n",
    "    print(indicator)\n",
    "    \n",
    "    print(\"Step 3:- Compute Derivative\")\n",
    "    error = (indicator - predictions)\n",
    "    print(\"Error:-\")\n",
    "    print(error.ravel())\n",
    "    print(\"Feature Matrix:-\")\n",
    "    print(feature_matrix[ind:ind+1, j])\n",
    "    derivative = feature_derivative(error, feature_matrix[ind:ind+1, j])\n",
    "    \n",
    "    return (derivative)"
   ]
  },
  {
   "cell_type": "code",
   "execution_count": 37,
   "metadata": {},
   "outputs": [
    {
     "data": {
      "text/plain": [
       "(194, 1)"
      ]
     },
     "execution_count": 37,
     "metadata": {},
     "output_type": "execute_result"
    }
   ],
   "source": [
    "coefficients.reshape(-1, 1).shape"
   ]
  },
  {
   "cell_type": "code",
   "execution_count": 38,
   "metadata": {},
   "outputs": [
    {
     "data": {
      "text/plain": [
       "(47780, 194)"
      ]
     },
     "execution_count": 38,
     "metadata": {},
     "output_type": "execute_result"
    }
   ],
   "source": [
    "feature_matrix_train.shape"
   ]
  },
  {
   "cell_type": "code",
   "execution_count": 39,
   "metadata": {},
   "outputs": [
    {
     "data": {
      "text/plain": [
       "array([0, 1, 0, 0, 0, 0, 0, 0, 1])"
      ]
     },
     "execution_count": 39,
     "metadata": {},
     "output_type": "execute_result"
    }
   ],
   "source": [
    "feature_matrix_train[1:10, 1]"
   ]
  },
  {
   "cell_type": "code",
   "execution_count": 40,
   "metadata": {},
   "outputs": [
    {
     "name": "stdout",
     "output_type": "stream",
     "text": [
      "Step 1:- Compute Probability\n",
      "A few predictions:-\n",
      "[[0.5]]\n",
      "Step 2:- Compute Indicator\n",
      "Indicator:-\n",
      "[array([ True])]\n",
      "Step 3:- Compute Derivative\n",
      "Error:-\n",
      "[0.5]\n",
      "Feature Matrix:-\n",
      "[0]\n",
      "Step 1:- Compute Probability\n",
      "A few predictions:-\n",
      "[[0.5]]\n",
      "Step 2:- Compute Indicator\n",
      "Indicator:-\n",
      "[array([ True])]\n",
      "Step 3:- Compute Derivative\n",
      "Error:-\n",
      "[0.5]\n",
      "Feature Matrix:-\n",
      "[0]\n",
      "Step 1:- Compute Probability\n",
      "A few predictions:-\n",
      "[[0.5]]\n",
      "Step 2:- Compute Indicator\n",
      "Indicator:-\n",
      "[array([ True])]\n",
      "Step 3:- Compute Derivative\n",
      "Error:-\n",
      "[0.5]\n",
      "Feature Matrix:-\n",
      "[1]\n",
      "Step 1:- Compute Probability\n",
      "A few predictions:-\n",
      "[[0.5]]\n",
      "Step 2:- Compute Indicator\n",
      "Indicator:-\n",
      "[array([ True])]\n",
      "Step 3:- Compute Derivative\n",
      "Error:-\n",
      "[0.5]\n",
      "Feature Matrix:-\n",
      "[0]\n",
      "Step 1:- Compute Probability\n",
      "A few predictions:-\n",
      "[[0.5]]\n",
      "Step 2:- Compute Indicator\n",
      "Indicator:-\n",
      "[array([ True])]\n",
      "Step 3:- Compute Derivative\n",
      "Error:-\n",
      "[0.5]\n",
      "Feature Matrix:-\n",
      "[0]\n",
      "Step 1:- Compute Probability\n",
      "A few predictions:-\n",
      "[[0.5]]\n",
      "Step 2:- Compute Indicator\n",
      "Indicator:-\n",
      "[array([ True])]\n",
      "Step 3:- Compute Derivative\n",
      "Error:-\n",
      "[0.5]\n",
      "Feature Matrix:-\n",
      "[0]\n",
      "Step 1:- Compute Probability\n",
      "A few predictions:-\n",
      "[[0.5]]\n",
      "Step 2:- Compute Indicator\n",
      "Indicator:-\n",
      "[array([ True])]\n",
      "Step 3:- Compute Derivative\n",
      "Error:-\n",
      "[0.5]\n",
      "Feature Matrix:-\n",
      "[0]\n",
      "Step 1:- Compute Probability\n",
      "A few predictions:-\n",
      "[[0.5]]\n",
      "Step 2:- Compute Indicator\n",
      "Indicator:-\n",
      "[array([ True])]\n",
      "Step 3:- Compute Derivative\n",
      "Error:-\n",
      "[0.5]\n",
      "Feature Matrix:-\n",
      "[0]\n",
      "Step 1:- Compute Probability\n",
      "A few predictions:-\n",
      "[[0.5]]\n",
      "Step 2:- Compute Indicator\n",
      "Indicator:-\n",
      "[array([ True])]\n",
      "Step 3:- Compute Derivative\n",
      "Error:-\n",
      "[0.5]\n",
      "Feature Matrix:-\n",
      "[0]\n",
      "Step 1:- Compute Probability\n",
      "A few predictions:-\n",
      "[[0.5]]\n",
      "Step 2:- Compute Indicator\n",
      "Indicator:-\n",
      "[array([ True])]\n",
      "Step 3:- Compute Derivative\n",
      "Error:-\n",
      "[0.5]\n",
      "Feature Matrix:-\n",
      "[1]\n"
     ]
    }
   ],
   "source": [
    "derivative_list_train = [compute_gradient_single(feature_matrix_train,\\\n",
    "                                          ind,\\\n",
    "                                          sentiment_train)\\\n",
    "                         for ind in range(10)]"
   ]
  },
  {
   "cell_type": "markdown",
   "metadata": {},
   "source": [
    "### Quiz Question: The code block above computed the derivative\n",
    "\n",
    "The code block above computed the derivative ∂ℓi(w)/∂wj for j = 1 and i = 10. Is ∂ℓi(w)/∂wj a scalar or a 194-dimensional vector?\n"
   ]
  },
  {
   "cell_type": "code",
   "execution_count": 41,
   "metadata": {},
   "outputs": [
    {
     "name": "stdout",
     "output_type": "stream",
     "text": [
      "A scalar\n"
     ]
    }
   ],
   "source": [
    "print(\"A scalar\")"
   ]
  },
  {
   "cell_type": "code",
   "execution_count": null,
   "metadata": {},
   "outputs": [],
   "source": []
  },
  {
   "cell_type": "code",
   "execution_count": 42,
   "metadata": {},
   "outputs": [
    {
     "data": {
      "image/png": "[encoded data removed]",
      "text/plain": [
       "<Figure size 432x288 with 1 Axes>"
      ]
     },
     "metadata": {},
     "output_type": "display_data"
    }
   ],
   "source": [
    "x_ = list(range(1, 100))\n",
    "y_ = list(map(lambda n:(n-2)*100/n, x_))\n",
    "\n",
    "plt.plot(x_, y_)\n",
    "plt.ylabel(\"The function (n-2)/n\")\n",
    "plt.xlabel(\"Input n\")\n",
    "\n",
    "plt.show()"
   ]
  },
  {
   "cell_type": "code",
   "execution_count": 43,
   "metadata": {},
   "outputs": [],
   "source": [
    "def compute_avg_log_likelihood(feature_matrix, sentiment, coefficients):\n",
    "\n",
    "    indicator = (sentiment==+1)\n",
    "    scores = np.dot(feature_matrix, coefficients)\n",
    "    logexp = np.log(1. + np.exp(-scores))\n",
    "    \n",
    "    # Simple check to prevent overflow\n",
    "    mask = np.isinf(logexp)\n",
    "    logexp[mask] = -scores[mask]   \n",
    "    \n",
    "    lp = np.sum((indicator-1)*scores - logexp)/len(feature_matrix)   \n",
    "    \n",
    "    return lp"
   ]
  },
  {
   "cell_type": "code",
   "execution_count": 44,
   "metadata": {},
   "outputs": [
    {
     "name": "stdout",
     "output_type": "stream",
     "text": [
      "Gradient single data point: 0.0\n",
      "           --> Should print 0.0\n"
     ]
    }
   ],
   "source": [
    "j = 1                        # Feature number\n",
    "i = 10                       # Data point number\n",
    "coefficients = np.zeros(194) # A point w at which we are computing the gradient.\n",
    "\n",
    "predictions = predict_probability(feature_matrix_train[i:i+1,:], coefficients)\n",
    "indicator = (sentiment_train[i:i+1]==+1)\n",
    "\n",
    "errors = indicator - predictions\n",
    "gradient_single_data_point = feature_derivative(errors, feature_matrix_train[i:i+1,j])\n",
    "print (\"Gradient single data point: %s\" %(gradient_single_data_point))\n",
    "print (\"           --> Should print 0.0\")"
   ]
  },
  {
   "cell_type": "markdown",
   "metadata": {},
   "source": [
    "### Batch Gradient Descent"
   ]
  },
  {
   "cell_type": "code",
   "execution_count": 45,
   "metadata": {},
   "outputs": [
    {
     "name": "stdout",
     "output_type": "stream",
     "text": [
      "[ True  True  True  True  True  True  True  True  True  True]\n",
      "[0.5 0.5 0.5 0.5 0.5 0.5 0.5 0.5 0.5 0.5]\n",
      "Gradient mini-batch data points: 1.0\n",
      "                --> Should print 1.0\n"
     ]
    }
   ],
   "source": [
    "j = 1                        # Feature number\n",
    "i = 10                       # Data point start\n",
    "B = 10                       # Mini-batch size\n",
    "    \n",
    "coefficients = np.zeros(194) # A point w at which we are computing the gradient.\n",
    "\n",
    "predictions = predict_probability(feature_matrix_train[i:i+B,:], coefficients)\n",
    "indicator = (sentiment_train[i:i+B]==+1)\n",
    "print(indicator)\n",
    "errors = indicator - predictions\n",
    "print(errors)\n",
    "gradient_mini_batch = feature_derivative(errors, feature_matrix_train[i:i+B,j])\n",
    "print (\"Gradient mini-batch data points: %s\" % gradient_mini_batch)\n",
    "print (\"                --> Should print 1.0\")"
   ]
  },
  {
   "cell_type": "markdown",
   "metadata": {},
   "source": [
    "### Quiz Question: The code block above computed ∑s=ii+B∂ℓs(w)∂wj for j = 10, i = 10, and B = 10. Is this a scalar or a 194-dimensional vector?\n"
   ]
  },
  {
   "cell_type": "code",
   "execution_count": 46,
   "metadata": {},
   "outputs": [
    {
     "name": "stdout",
     "output_type": "stream",
     "text": [
      "A scalar\n"
     ]
    }
   ],
   "source": [
    "print(\"A scalar\")"
   ]
  },
  {
   "cell_type": "markdown",
   "metadata": {},
   "source": [
    "## Quiz Question: For what value of B is the term ∑s=1B∂ℓs(w)∂wj the same as the full gradient ∂ℓ(w)∂wj?"
   ]
  },
  {
   "cell_type": "code",
   "execution_count": 47,
   "metadata": {},
   "outputs": [
    {
     "name": "stdout",
     "output_type": "stream",
     "text": [
      "47780\n"
     ]
    }
   ],
   "source": [
    "print(train_data.shape[0])"
   ]
  },
  {
   "cell_type": "markdown",
   "metadata": {},
   "source": [
    "### logistic_regression_SG"
   ]
  },
  {
   "cell_type": "code",
   "execution_count": 48,
   "metadata": {},
   "outputs": [
    {
     "data": {
      "text/plain": [
       "3"
      ]
     },
     "execution_count": 48,
     "metadata": {},
     "output_type": "execute_result"
    }
   ],
   "source": [
    "np.random.randint(5)"
   ]
  },
  {
   "cell_type": "code",
   "execution_count": 49,
   "metadata": {},
   "outputs": [
    {
     "name": "stdout",
     "output_type": "stream",
     "text": [
      "Help on built-in function random_sample:\n",
      "\n",
      "random_sample(...) method of mtrand.RandomState instance\n",
      "    random_sample(size=None)\n",
      "    \n",
      "    Return random floats in the half-open interval [0.0, 1.0).\n",
      "    \n",
      "    Results are from the \"continuous uniform\" distribution over the\n",
      "    stated interval.  To sample :math:`Unif[a, b), b > a` multiply\n",
      "    the output of `random_sample` by `(b-a)` and add `a`::\n",
      "    \n",
      "      (b - a) * random_sample() + a\n",
      "    \n",
      "    Parameters\n",
      "    ----------\n",
      "    size : int or tuple of ints, optional\n",
      "        Output shape.  If the given shape is, e.g., ``(m, n, k)``, then\n",
      "        ``m * n * k`` samples are drawn.  Default is None, in which case a\n",
      "        single value is returned.\n",
      "    \n",
      "    Returns\n",
      "    -------\n",
      "    out : float or ndarray of floats\n",
      "        Array of random floats of shape `size` (unless ``size=None``, in which\n",
      "        case a single float is returned).\n",
      "    \n",
      "    Examples\n",
      "    --------\n",
      "    >>> np.random.random_sample()\n",
      "    0.47108547995356098\n",
      "    >>> type(np.random.random_sample())\n",
      "    <type 'float'>\n",
      "    >>> np.random.random_sample((5,))\n",
      "    array([ 0.30220482,  0.86820401,  0.1654503 ,  0.11659149,  0.54323428])\n",
      "    \n",
      "    Three-by-two array of random numbers from [-5, 0):\n",
      "    \n",
      "    >>> 5 * np.random.random_sample((3, 2)) - 5\n",
      "    array([[-3.99149989, -0.52338984],\n",
      "           [-2.99091858, -0.79479508],\n",
      "           [-1.23204345, -1.75224494]])\n",
      "\n"
     ]
    }
   ],
   "source": [
    "help(np.random.random)"
   ]
  },
  {
   "cell_type": "code",
   "execution_count": 63,
   "metadata": {},
   "outputs": [],
   "source": [
    "def logistic_regression_SG(feature_matrix, sentiment,\\\n",
    "                           initial_coefficients, batch_size,\\\n",
    "                           max_iter, step_size):\n",
    "    log_likelihood_all = []\n",
    "    coefficients = np.array(initial_coefficients)\n",
    "    \n",
    "    #Set the seed to 1\n",
    "    np.random.randint(1)\n",
    "    \n",
    "    #Shuffle the data before starting the loop\n",
    "    permutation = np.random.permutation(len(feature_matrix))\n",
    "    feature_matrix = feature_matrix[permutation, :]\n",
    "    sentiment = sentiment[permutation]\n",
    "    \n",
    "    #Initialize the index of the current batch\n",
    "    i = 0\n",
    "    \n",
    "    for itr in range(max_iter):\n",
    "        predictions = predict_probability(feature_matrix, coefficients)\n",
    "        \n",
    "        #Calculate the error\n",
    "        error = (sentiment - predictions)\n",
    "        \n",
    "        for j in range(len(coefficients)):\n",
    "            derivative = feature_derivative(error[i:i+batch_size], feature_matrix\\\n",
    "                                            [i:i+batch_size, j])\n",
    "            #Update the coefficients\n",
    "            #print((1/batch_size)*(step_size*derivative))\n",
    "            coefficients[j] += (1/batch_size)*(step_size*derivative)\n",
    "            \n",
    "        # Checking whether log likelihood is increasing\n",
    "        # Print the log likelihood over the *current batch*\n",
    "        lp = compute_avg_log_likelihood(feature_matrix[i:i+batch_size,:], sentiment[i:i+batch_size],\n",
    "                                        coefficients)\n",
    "        log_likelihood_all.append(lp)\n",
    "        if itr <= 15 or (itr <= 1000 and itr % 100 == 0) or (itr <= 10000 and itr % 1000 == 0) \\\n",
    "         or itr % 10000 == 0 or itr == max_iter-1:\n",
    "            data_size = len(feature_matrix)\n",
    "            print ('Iteration %*d: Average log likelihood (of data points  [%0*d:%0*d]) = %.8f' % \\\n",
    "                (int(np.ceil(np.log10(max_iter))), itr, \\\n",
    "                 int(np.ceil(np.log10(data_size))), i, \\\n",
    "                 int(np.ceil(np.log10(data_size))), i+batch_size, lp))  \n",
    "\n",
    "        # if we made a complete pass over data, shuffle and restart\n",
    "        i += batch_size\n",
    "        if i+batch_size > len(feature_matrix):\n",
    "            permutation = np.random.permutation(len(feature_matrix))\n",
    "            feature_matrix = feature_matrix[permutation,:]\n",
    "            sentiment = sentiment[permutation]\n",
    "            i = 0                \n",
    "\n",
    "    # We return the list of log likelihoods for plotting purposes.\n",
    "    return (coefficients, log_likelihood_all)\n",
    "        "
   ]
  },
  {
   "cell_type": "code",
   "execution_count": 83,
   "metadata": {},
   "outputs": [],
   "source": [
    "def plotting(X, y, batch_size):\n",
    "        \n",
    "    plt.xlabel = \"Iterations\"\n",
    "    plt.ylabel = \"Log Likelihood\"\n",
    "    \n",
    "    plt.title = \"Batch Size \" + str(batch_size)\n",
    "    \n",
    "    plt.plot(X, y)"
   ]
  },
  {
   "cell_type": "markdown",
   "metadata": {},
   "source": [
    "### We now run stochastic gradient ascent over the feature_matrix_train for 10 iterations using:\n",
    "\n",
    "    initial_coefficients = np.zeros(194)\n",
    "    step_size = 5e-1\n",
    "    batch_size = 1\n",
    "    max_iter = 10"
   ]
  },
  {
   "cell_type": "code",
   "execution_count": 85,
   "metadata": {},
   "outputs": [
    {
     "name": "stdout",
     "output_type": "stream",
     "text": [
      "Iteration 0: Average log likelihood (of data points  [00000:00001]) = -0.00000000\n",
      "Iteration 1: Average log likelihood (of data points  [00001:00002]) = -0.15832910\n",
      "Iteration 2: Average log likelihood (of data points  [00002:00003]) = -0.00080659\n",
      "Iteration 3: Average log likelihood (of data points  [00003:00004]) = -0.01269477\n",
      "Iteration 4: Average log likelihood (of data points  [00004:00005]) = -0.12526073\n",
      "Iteration 5: Average log likelihood (of data points  [00005:00006]) = -0.00273750\n",
      "Iteration 6: Average log likelihood (of data points  [00006:00007]) = -0.00000000\n",
      "Iteration 7: Average log likelihood (of data points  [00007:00008]) = -0.10285320\n",
      "Iteration 8: Average log likelihood (of data points  [00008:00009]) = -0.00061790\n",
      "Iteration 9: Average log likelihood (of data points  [00009:00010]) = -0.01510541\n"
     ]
    }
   ],
   "source": [
    "initial_coefficients = np.zeros(194)\n",
    "step_size = 5e-1\n",
    "batch_size = 1\n",
    "max_iter = 10\n",
    "\n",
    "coeff_train, log_likelihood_train = logistic_regression_SG(feature_matrix_train, sentiment_train,\\\n",
    "                       initial_coefficients, batch_size, max_iter,\\\n",
    "                       step_size)\n",
    "#Iteration 1: Average log likelihood (of data points  [00001:00002]) = -0.40108422"
   ]
  },
  {
   "cell_type": "markdown",
   "metadata": {},
   "source": [
    "### Quiz Question. When you set batch_size = 1, as each iteration passes, how does the average log likelihood in the batch change?"
   ]
  },
  {
   "cell_type": "code",
   "execution_count": 86,
   "metadata": {},
   "outputs": [
    {
     "data": {
      "image/png": "[encoded data removed]",
      "text/plain": [
       "<Figure size 648x360 with 1 Axes>"
      ]
     },
     "metadata": {},
     "output_type": "display_data"
    }
   ],
   "source": [
    "plotting(range(1, max_iter+1), log_likelihood_train, batch_size)"
   ]
  },
  {
   "cell_type": "code",
   "execution_count": 52,
   "metadata": {},
   "outputs": [
    {
     "name": "stdout",
     "output_type": "stream",
     "text": [
      "Fluctuates\n"
     ]
    }
   ],
   "source": [
    "print(\"Fluctuates\")"
   ]
  },
  {
   "cell_type": "markdown",
   "metadata": {},
   "source": [
    "### 17. Now run batch gradient ascent over the feature_matrix_train for 200 iterations using:\n",
    "\n",
    "    initial_coefficients = np.zeros(194)\n",
    "    step_size = 5e-1\n",
    "    batch_size = number of rows in feature_matrix_train\n",
    "    max_iter = 200\n",
    "\n"
   ]
  },
  {
   "cell_type": "code",
   "execution_count": 53,
   "metadata": {},
   "outputs": [
    {
     "data": {
      "text/plain": [
       "47780"
      ]
     },
     "execution_count": 53,
     "metadata": {},
     "output_type": "execute_result"
    }
   ],
   "source": [
    "feature_matrix_train.shape[0]"
   ]
  },
  {
   "cell_type": "code",
   "execution_count": 54,
   "metadata": {},
   "outputs": [
    {
     "data": {
      "text/plain": [
       "0.0"
      ]
     },
     "execution_count": 54,
     "metadata": {},
     "output_type": "execute_result"
    }
   ],
   "source": [
    "initial_coefficients[7]"
   ]
  },
  {
   "cell_type": "code",
   "execution_count": 87,
   "metadata": {},
   "outputs": [
    {
     "name": "stdout",
     "output_type": "stream",
     "text": [
      "Iteration   0: Average log likelihood (of data points  [00000:47780]) = -0.75477592\n",
      "Iteration   1: Average log likelihood (of data points  [00000:47780]) = -0.84384637\n",
      "Iteration   2: Average log likelihood (of data points  [00000:47780]) = -0.92475248\n",
      "Iteration   3: Average log likelihood (of data points  [00000:47780]) = -0.99654960\n",
      "Iteration   4: Average log likelihood (of data points  [00000:47780]) = -1.06065146\n",
      "Iteration   5: Average log likelihood (of data points  [00000:47780]) = -1.11847715\n",
      "Iteration   6: Average log likelihood (of data points  [00000:47780]) = -1.17118243\n",
      "Iteration   7: Average log likelihood (of data points  [00000:47780]) = -1.21967772\n",
      "Iteration   8: Average log likelihood (of data points  [00000:47780]) = -1.26468072\n",
      "Iteration   9: Average log likelihood (of data points  [00000:47780]) = -1.30676281\n",
      "Iteration  10: Average log likelihood (of data points  [00000:47780]) = -1.34638463\n",
      "Iteration  11: Average log likelihood (of data points  [00000:47780]) = -1.38392220\n",
      "Iteration  12: Average log likelihood (of data points  [00000:47780]) = -1.41968615\n",
      "Iteration  13: Average log likelihood (of data points  [00000:47780]) = -1.45393589\n",
      "Iteration  14: Average log likelihood (of data points  [00000:47780]) = -1.48689012\n",
      "Iteration  15: Average log likelihood (of data points  [00000:47780]) = -1.51873475\n",
      "Iteration 100: Average log likelihood (of data points  [00000:47780]) = -3.93825276\n",
      "Iteration 199: Average log likelihood (of data points  [00000:47780]) = -7.05860564\n"
     ]
    }
   ],
   "source": [
    "initial_coefficients = np.zeros(194)\n",
    "step_size = 5e-1\n",
    "batch_size = feature_matrix_train.shape[0]\n",
    "max_iter = 200\n",
    "\n",
    "coeff_train, log_likelihood_train = logistic_regression_SG(feature_matrix_train, sentiment_train,\\\n",
    "                       initial_coefficients, batch_size, max_iter,\\\n",
    "                       step_size)"
   ]
  },
  {
   "cell_type": "markdown",
   "metadata": {},
   "source": [
    "### Quiz Question. When you set batch_size = len(train_data), as each iteration passes, how does the average log likelihood in the batch change?"
   ]
  },
  {
   "cell_type": "code",
   "execution_count": 88,
   "metadata": {},
   "outputs": [
    {
     "data": {
      "image/png": "[encoded data removed]",
      "text/plain": [
       "<Figure size 648x360 with 1 Axes>"
      ]
     },
     "metadata": {},
     "output_type": "display_data"
    }
   ],
   "source": [
    "plotting(range(1, max_iter+1), log_likelihood_train, batch_size)"
   ]
  },
  {
   "cell_type": "code",
   "execution_count": 105,
   "metadata": {},
   "outputs": [],
   "source": [
    "import matplotlib.pyplot as plt\n",
    "%matplotlib inline\n",
    "\n",
    "def make_plot(log_likelihood_all, len_data, batch_size,\\\n",
    "              smoothing_window=1, label=''):\n",
    "    plt.rcParams.update({'figure.figsize': (9,5)})\n",
    "    log_likelihood_all_ma = np.convolve(np.array(log_likelihood_all), \\\n",
    "                                        np.ones((smoothing_window,))/smoothing_window, mode='valid')\n",
    "\n",
    "    plt.plot(np.array(range(smoothing_window-1, len(log_likelihood_all)))\\\n",
    "             *float(batch_size)/len_data,\n",
    "             log_likelihood_all_ma, linewidth=4.0, label=label)\n",
    "    plt.rcParams.update({'font.size': 16})\n",
    "    plt.tight_layout()\n",
    "    plt.xlabel = \"# of passes over data\"\n",
    "    plt.ylabel = \"Average log likelihood per data point\"\n",
    "    plt.legend(loc='lower right', prop={'size':14})\n"
   ]
  },
  {
   "cell_type": "code",
   "execution_count": 100,
   "metadata": {
    "scrolled": true
   },
   "outputs": [
    {
     "name": "stdout",
     "output_type": "stream",
     "text": [
      "Help on function convolve in module numpy:\n",
      "\n",
      "convolve(a, v, mode='full')\n",
      "    Returns the discrete, linear convolution of two one-dimensional sequences.\n",
      "    \n",
      "    The convolution operator is often seen in signal processing, where it\n",
      "    models the effect of a linear time-invariant system on a signal [1]_.  In\n",
      "    probability theory, the sum of two independent random variables is\n",
      "    distributed according to the convolution of their individual\n",
      "    distributions.\n",
      "    \n",
      "    If `v` is longer than `a`, the arrays are swapped before computation.\n",
      "    \n",
      "    Parameters\n",
      "    ----------\n",
      "    a : (N,) array_like\n",
      "        First one-dimensional input array.\n",
      "    v : (M,) array_like\n",
      "        Second one-dimensional input array.\n",
      "    mode : {'full', 'valid', 'same'}, optional\n",
      "        'full':\n",
      "          By default, mode is 'full'.  This returns the convolution\n",
      "          at each point of overlap, with an output shape of (N+M-1,). At\n",
      "          the end-points of the convolution, the signals do not overlap\n",
      "          completely, and boundary effects may be seen.\n",
      "    \n",
      "        'same':\n",
      "          Mode 'same' returns output of length ``max(M, N)``.  Boundary\n",
      "          effects are still visible.\n",
      "    \n",
      "        'valid':\n",
      "          Mode 'valid' returns output of length\n",
      "          ``max(M, N) - min(M, N) + 1``.  The convolution product is only given\n",
      "          for points where the signals overlap completely.  Values outside\n",
      "          the signal boundary have no effect.\n",
      "    \n",
      "    Returns\n",
      "    -------\n",
      "    out : ndarray\n",
      "        Discrete, linear convolution of `a` and `v`.\n",
      "    \n",
      "    See Also\n",
      "    --------\n",
      "    scipy.signal.fftconvolve : Convolve two arrays using the Fast Fourier\n",
      "                               Transform.\n",
      "    scipy.linalg.toeplitz : Used to construct the convolution operator.\n",
      "    polymul : Polynomial multiplication. Same output as convolve, but also\n",
      "              accepts poly1d objects as input.\n",
      "    \n",
      "    Notes\n",
      "    -----\n",
      "    The discrete convolution operation is defined as\n",
      "    \n",
      "    .. math:: (a * v)[n] = \\sum_{m = -\\infty}^{\\infty} a[m] v[n - m]\n",
      "    \n",
      "    It can be shown that a convolution :math:`x(t) * y(t)` in time/space\n",
      "    is equivalent to the multiplication :math:`X(f) Y(f)` in the Fourier\n",
      "    domain, after appropriate padding (padding is necessary to prevent\n",
      "    circular convolution).  Since multiplication is more efficient (faster)\n",
      "    than convolution, the function `scipy.signal.fftconvolve` exploits the\n",
      "    FFT to calculate the convolution of large data-sets.\n",
      "    \n",
      "    References\n",
      "    ----------\n",
      "    .. [1] Wikipedia, \"Convolution\",\n",
      "        https://en.wikipedia.org/wiki/Convolution\n",
      "    \n",
      "    Examples\n",
      "    --------\n",
      "    Note how the convolution operator flips the second array\n",
      "    before \"sliding\" the two across one another:\n",
      "    \n",
      "    >>> np.convolve([1, 2, 3], [0, 1, 0.5])\n",
      "    array([ 0. ,  1. ,  2.5,  4. ,  1.5])\n",
      "    \n",
      "    Only return the middle values of the convolution.\n",
      "    Contains boundary effects, where zeros are taken\n",
      "    into account:\n",
      "    \n",
      "    >>> np.convolve([1,2,3],[0,1,0.5], 'same')\n",
      "    array([ 1. ,  2.5,  4. ])\n",
      "    \n",
      "    The two arrays are of the same length, so there\n",
      "    is only one position where they completely overlap:\n",
      "    \n",
      "    >>> np.convolve([1,2,3],[0,1,0.5], 'valid')\n",
      "    array([ 2.5])\n",
      "\n"
     ]
    }
   ],
   "source": [
    "help(np.convolve)"
   ]
  },
  {
   "cell_type": "code",
   "execution_count": 82,
   "metadata": {},
   "outputs": [
    {
     "name": "stderr",
     "output_type": "stream",
     "text": [
      "No handles with labels found to put in legend.\n"
     ]
    },
    {
     "data": {
      "image/png": "[encoded data removed]",
      "text/plain": [
       "<Figure size 648x360 with 1 Axes>"
      ]
     },
     "metadata": {},
     "output_type": "display_data"
    }
   ],
   "source": [
    "make_plot(log_likelihood_train, feature_matrix_train.shape[0], batch_size)"
   ]
  },
  {
   "cell_type": "markdown",
   "metadata": {},
   "source": [
    "## 19. With the terminology in mind, let us run stochastic gradient ascent for 10 passes. We will use\n",
    "\n",
    "    step_size=1e-1\n",
    "    batch_size=100\n",
    "    initial_coefficients set to all zeros.\n",
    "\n"
   ]
  },
  {
   "cell_type": "code",
   "execution_count": 89,
   "metadata": {},
   "outputs": [
    {
     "name": "stdout",
     "output_type": "stream",
     "text": [
      "Iteration 0: Average log likelihood (of data points  [00000:00100]) = -0.68584921\n",
      "Iteration 1: Average log likelihood (of data points  [00100:00200]) = -0.67117643\n",
      "Iteration 2: Average log likelihood (of data points  [00200:00300]) = -0.72579611\n",
      "Iteration 3: Average log likelihood (of data points  [00300:00400]) = -0.71808632\n",
      "Iteration 4: Average log likelihood (of data points  [00400:00500]) = -0.76064810\n",
      "Iteration 5: Average log likelihood (of data points  [00500:00600]) = -0.75726561\n",
      "Iteration 6: Average log likelihood (of data points  [00600:00700]) = -0.72767622\n",
      "Iteration 7: Average log likelihood (of data points  [00700:00800]) = -0.76832295\n",
      "Iteration 8: Average log likelihood (of data points  [00800:00900]) = -0.71828839\n",
      "Iteration 9: Average log likelihood (of data points  [00900:01000]) = -0.74386156\n"
     ]
    }
   ],
   "source": [
    "initial_coefficients = np.zeros(194)\n",
    "step_size = 1e-1\n",
    "batch_size = 100\n",
    "max_iter = 10\n",
    "\n",
    "coeff_train_10_passes, log_likelihood_train_10_passes = logistic_regression_SG(feature_matrix_train, sentiment_train,\\\n",
    "                       initial_coefficients, batch_size, max_iter,\\\n",
    "                       step_size)"
   ]
  },
  {
   "cell_type": "code",
   "execution_count": 90,
   "metadata": {},
   "outputs": [
    {
     "name": "stderr",
     "output_type": "stream",
     "text": [
      "No handles with labels found to put in legend.\n"
     ]
    },
    {
     "data": {
      "image/png": "[encoded data removed]",
      "text/plain": [
       "<Figure size 648x360 with 1 Axes>"
      ]
     },
     "metadata": {},
     "output_type": "display_data"
    }
   ],
   "source": [
    "make_plot(log_likelihood_train_10_passes, \\\n",
    "          feature_matrix_train.shape[0], batch_size)"
   ]
  },
  {
   "cell_type": "markdown",
   "metadata": {},
   "source": [
    "### Stochastic Gradient Ascent V/S Batch Gradient Ascent\n",
    "\n",
    "stochastic gradient ascent: step_size = 0.1, batch_size=100\n",
    "\n",
    "batch gradient ascent: step_size = 0.5, batch_size=[# rows in feature_matrix_train]\n",
    "\n",
    "Write code to run stochastic gradient ascent for 200 passes using:\n",
    "\n",
    "    step_size=1e-1\n",
    "    batch_size=100\n",
    "    initial_coefficients set to all zeros.\n",
    "  "
   ]
  },
  {
   "cell_type": "code",
   "execution_count": 96,
   "metadata": {},
   "outputs": [
    {
     "name": "stdout",
     "output_type": "stream",
     "text": [
      "Help on function average_log_likelihood in module __main__:\n",
      "\n",
      "average_log_likelihood(feature_matrix, sentiment, weights)\n",
      "\n"
     ]
    }
   ],
   "source": [
    "help(average_log_likelihood)"
   ]
  },
  {
   "cell_type": "code",
   "execution_count": 95,
   "metadata": {},
   "outputs": [
    {
     "name": "stdout",
     "output_type": "stream",
     "text": [
      "Help on function compute_avg_log_likelihood in module __main__:\n",
      "\n",
      "compute_avg_log_likelihood(feature_matrix, sentiment, coefficients)\n",
      "\n"
     ]
    }
   ],
   "source": [
    "help(compute_avg_log_likelihood)"
   ]
  },
  {
   "cell_type": "code",
   "execution_count": 106,
   "metadata": {},
   "outputs": [
    {
     "name": "stdout",
     "output_type": "stream",
     "text": [
      "Iteration   0: Average log likelihood (of data points  [00000:00100]) = -0.68231870\n",
      "Iteration   1: Average log likelihood (of data points  [00100:00200]) = -0.68867996\n",
      "Iteration   2: Average log likelihood (of data points  [00200:00300]) = -0.70586411\n",
      "Iteration   3: Average log likelihood (of data points  [00300:00400]) = -0.74088535\n",
      "Iteration   4: Average log likelihood (of data points  [00400:00500]) = -0.69391361\n",
      "Iteration   5: Average log likelihood (of data points  [00500:00600]) = -0.70282520\n",
      "Iteration   6: Average log likelihood (of data points  [00600:00700]) = -0.73996194\n",
      "Iteration   7: Average log likelihood (of data points  [00700:00800]) = -0.81859762\n",
      "Iteration   8: Average log likelihood (of data points  [00800:00900]) = -0.76507245\n",
      "Iteration   9: Average log likelihood (of data points  [00900:01000]) = -0.81647270\n",
      "Iteration  10: Average log likelihood (of data points  [01000:01100]) = -0.90497482\n",
      "Iteration  11: Average log likelihood (of data points  [01100:01200]) = -0.71239711\n",
      "Iteration  12: Average log likelihood (of data points  [01200:01300]) = -0.72898912\n",
      "Iteration  13: Average log likelihood (of data points  [01300:01400]) = -0.88654959\n",
      "Iteration  14: Average log likelihood (of data points  [01400:01500]) = -0.92531542\n",
      "Iteration  15: Average log likelihood (of data points  [01500:01600]) = -0.91252628\n",
      "Iteration 100: Average log likelihood (of data points  [10000:10100]) = -1.87679433\n"
     ]
    },
    {
     "name": "stderr",
     "output_type": "stream",
     "text": [
      "No handles with labels found to put in legend.\n"
     ]
    },
    {
     "name": "stdout",
     "output_type": "stream",
     "text": [
      "Iteration 199: Average log likelihood (of data points  [19900:20000]) = -1.93262812\n"
     ]
    },
    {
     "data": {
      "image/png": "[encoded data removed]",
      "text/plain": [
       "<Figure size 648x360 with 1 Axes>"
      ]
     },
     "metadata": {},
     "output_type": "display_data"
    }
   ],
   "source": [
    "initial_coefficients = np.zeros(194)\n",
    "step_size = 1e-1\n",
    "batch_size = 100\n",
    "max_iter = 200\n",
    "\n",
    "coeff_train, log_likelihood_train = logistic_regression_SG(feature_matrix_train, sentiment_train,\\\n",
    "                       initial_coefficients, batch_size, max_iter,\\\n",
    "                       step_size)\n",
    "make_plot(log_likelihood_train, feature_matrix_train.shape[0],\\\n",
    "         batch_size)"
   ]
  },
  {
   "cell_type": "markdown",
   "metadata": {},
   "source": [
    "### 22. We compare the convergence of stochastic gradient ascent and batch gradient ascent by calling the make_plot function. Apply smoothing with smoothing_window=30.\n",
    "\n",
    "Quiz Question: In the figure above, how many passes does batch gradient ascent need to achieve a similar log likelihood as stochastic gradient ascent?\n",
    "Explore the effects of step sizes on stochastic gradient ascent"
   ]
  },
  {
   "cell_type": "code",
   "execution_count": 107,
   "metadata": {},
   "outputs": [
    {
     "name": "stdout",
     "output_type": "stream",
     "text": [
      "Iteration 0: Average log likelihood (of data points  [00000:00001]) = -0.01814993\n",
      "Iteration 1: Average log likelihood (of data points  [00001:00002]) = -0.00112460\n",
      "Iteration 2: Average log likelihood (of data points  [00002:00003]) = 0.00000000\n",
      "Iteration 3: Average log likelihood (of data points  [00003:00004]) = -0.19188235\n",
      "Iteration 4: Average log likelihood (of data points  [00004:00005]) = -0.00006122\n",
      "Iteration 5: Average log likelihood (of data points  [00005:00006]) = -0.09821237\n",
      "Iteration 6: Average log likelihood (of data points  [00006:00007]) = -0.00054987\n",
      "Iteration 7: Average log likelihood (of data points  [00007:00008]) = -0.05083233\n",
      "Iteration 8: Average log likelihood (of data points  [00008:00009]) = -0.00000009\n",
      "Iteration 9: Average log likelihood (of data points  [00009:00010]) = -0.00054045\n"
     ]
    },
    {
     "ename": "ValueError",
     "evalue": "x and y must have same first dimension, but have shapes (0,) and (21,)",
     "output_type": "error",
     "traceback": [
      "\u001b[0;31m---------------------------------------------------------------------------\u001b[0m",
      "\u001b[0;31mValueError\u001b[0m                                Traceback (most recent call last)",
      "\u001b[0;32m<ipython-input-107-664a8972a707>\u001b[0m in \u001b[0;36m<module>\u001b[0;34m()\u001b[0m\n\u001b[1;32m      8\u001b[0m \u001b[0mcoeff_train\u001b[0m\u001b[0;34m,\u001b[0m \u001b[0mlog_likelihood_train\u001b[0m \u001b[0;34m=\u001b[0m \u001b[0mlogistic_regression_SG\u001b[0m\u001b[0;34m(\u001b[0m\u001b[0mfeature_matrix_train\u001b[0m\u001b[0;34m,\u001b[0m \u001b[0msentiment_train\u001b[0m\u001b[0;34m,\u001b[0m                       \u001b[0minitial_coefficients\u001b[0m\u001b[0;34m,\u001b[0m \u001b[0mbatch_size\u001b[0m\u001b[0;34m,\u001b[0m \u001b[0mmax_iter\u001b[0m\u001b[0;34m,\u001b[0m                       \u001b[0mstep_size\u001b[0m\u001b[0;34m)\u001b[0m\u001b[0;34m\u001b[0m\u001b[0m\n\u001b[1;32m      9\u001b[0m \u001b[0;34m\u001b[0m\u001b[0m\n\u001b[0;32m---> 10\u001b[0;31m \u001b[0mmake_plot\u001b[0m\u001b[0;34m(\u001b[0m\u001b[0mlog_likelihood_train\u001b[0m\u001b[0;34m,\u001b[0m \u001b[0mfeature_matrix_train\u001b[0m\u001b[0;34m.\u001b[0m\u001b[0mshape\u001b[0m\u001b[0;34m[\u001b[0m\u001b[0;36m0\u001b[0m\u001b[0;34m]\u001b[0m\u001b[0;34m,\u001b[0m         \u001b[0mbatch_size\u001b[0m\u001b[0;34m,\u001b[0m \u001b[0;36m30\u001b[0m\u001b[0;34m)\u001b[0m\u001b[0;34m\u001b[0m\u001b[0m\n\u001b[0m",
      "\u001b[0;32m<ipython-input-105-d11b4bc712d7>\u001b[0m in \u001b[0;36mmake_plot\u001b[0;34m(log_likelihood_all, len_data, batch_size, smoothing_window, label)\u001b[0m\n\u001b[1;32m      7\u001b[0m \u001b[0;34m\u001b[0m\u001b[0m\n\u001b[1;32m      8\u001b[0m     plt.plot(np.array(range(smoothing_window-1, len(log_likelihood_all)))             *float(batch_size)/len_data,\n\u001b[0;32m----> 9\u001b[0;31m              log_likelihood_all_ma, linewidth=4.0, label=label)\n\u001b[0m\u001b[1;32m     10\u001b[0m     \u001b[0mplt\u001b[0m\u001b[0;34m.\u001b[0m\u001b[0mrcParams\u001b[0m\u001b[0;34m.\u001b[0m\u001b[0mupdate\u001b[0m\u001b[0;34m(\u001b[0m\u001b[0;34m{\u001b[0m\u001b[0;34m'font.size'\u001b[0m\u001b[0;34m:\u001b[0m \u001b[0;36m16\u001b[0m\u001b[0;34m}\u001b[0m\u001b[0;34m)\u001b[0m\u001b[0;34m\u001b[0m\u001b[0m\n\u001b[1;32m     11\u001b[0m     \u001b[0mplt\u001b[0m\u001b[0;34m.\u001b[0m\u001b[0mtight_layout\u001b[0m\u001b[0;34m(\u001b[0m\u001b[0;34m)\u001b[0m\u001b[0;34m\u001b[0m\u001b[0m\n",
      "\u001b[0;32m~/anaconda3/lib/python3.6/site-packages/matplotlib/pyplot.py\u001b[0m in \u001b[0;36mplot\u001b[0;34m(*args, **kwargs)\u001b[0m\n\u001b[1;32m   3356\u001b[0m                       mplDeprecation)\n\u001b[1;32m   3357\u001b[0m     \u001b[0;32mtry\u001b[0m\u001b[0;34m:\u001b[0m\u001b[0;34m\u001b[0m\u001b[0m\n\u001b[0;32m-> 3358\u001b[0;31m         \u001b[0mret\u001b[0m \u001b[0;34m=\u001b[0m \u001b[0max\u001b[0m\u001b[0;34m.\u001b[0m\u001b[0mplot\u001b[0m\u001b[0;34m(\u001b[0m\u001b[0;34m*\u001b[0m\u001b[0margs\u001b[0m\u001b[0;34m,\u001b[0m \u001b[0;34m**\u001b[0m\u001b[0mkwargs\u001b[0m\u001b[0;34m)\u001b[0m\u001b[0;34m\u001b[0m\u001b[0m\n\u001b[0m\u001b[1;32m   3359\u001b[0m     \u001b[0;32mfinally\u001b[0m\u001b[0;34m:\u001b[0m\u001b[0;34m\u001b[0m\u001b[0m\n\u001b[1;32m   3360\u001b[0m         \u001b[0max\u001b[0m\u001b[0;34m.\u001b[0m\u001b[0m_hold\u001b[0m \u001b[0;34m=\u001b[0m \u001b[0mwashold\u001b[0m\u001b[0;34m\u001b[0m\u001b[0m\n",
      "\u001b[0;32m~/anaconda3/lib/python3.6/site-packages/matplotlib/__init__.py\u001b[0m in \u001b[0;36minner\u001b[0;34m(ax, *args, **kwargs)\u001b[0m\n\u001b[1;32m   1853\u001b[0m                         \u001b[0;34m\"the Matplotlib list!)\"\u001b[0m \u001b[0;34m%\u001b[0m \u001b[0;34m(\u001b[0m\u001b[0mlabel_namer\u001b[0m\u001b[0;34m,\u001b[0m \u001b[0mfunc\u001b[0m\u001b[0;34m.\u001b[0m\u001b[0m__name__\u001b[0m\u001b[0;34m)\u001b[0m\u001b[0;34m,\u001b[0m\u001b[0;34m\u001b[0m\u001b[0m\n\u001b[1;32m   1854\u001b[0m                         RuntimeWarning, stacklevel=2)\n\u001b[0;32m-> 1855\u001b[0;31m             \u001b[0;32mreturn\u001b[0m \u001b[0mfunc\u001b[0m\u001b[0;34m(\u001b[0m\u001b[0max\u001b[0m\u001b[0;34m,\u001b[0m \u001b[0;34m*\u001b[0m\u001b[0margs\u001b[0m\u001b[0;34m,\u001b[0m \u001b[0;34m**\u001b[0m\u001b[0mkwargs\u001b[0m\u001b[0;34m)\u001b[0m\u001b[0;34m\u001b[0m\u001b[0m\n\u001b[0m\u001b[1;32m   1856\u001b[0m \u001b[0;34m\u001b[0m\u001b[0m\n\u001b[1;32m   1857\u001b[0m         inner.__doc__ = _add_data_doc(inner.__doc__,\n",
      "\u001b[0;32m~/anaconda3/lib/python3.6/site-packages/matplotlib/axes/_axes.py\u001b[0m in \u001b[0;36mplot\u001b[0;34m(self, *args, **kwargs)\u001b[0m\n\u001b[1;32m   1525\u001b[0m         \u001b[0mkwargs\u001b[0m \u001b[0;34m=\u001b[0m \u001b[0mcbook\u001b[0m\u001b[0;34m.\u001b[0m\u001b[0mnormalize_kwargs\u001b[0m\u001b[0;34m(\u001b[0m\u001b[0mkwargs\u001b[0m\u001b[0;34m,\u001b[0m \u001b[0m_alias_map\u001b[0m\u001b[0;34m)\u001b[0m\u001b[0;34m\u001b[0m\u001b[0m\n\u001b[1;32m   1526\u001b[0m \u001b[0;34m\u001b[0m\u001b[0m\n\u001b[0;32m-> 1527\u001b[0;31m         \u001b[0;32mfor\u001b[0m \u001b[0mline\u001b[0m \u001b[0;32min\u001b[0m \u001b[0mself\u001b[0m\u001b[0;34m.\u001b[0m\u001b[0m_get_lines\u001b[0m\u001b[0;34m(\u001b[0m\u001b[0;34m*\u001b[0m\u001b[0margs\u001b[0m\u001b[0;34m,\u001b[0m \u001b[0;34m**\u001b[0m\u001b[0mkwargs\u001b[0m\u001b[0;34m)\u001b[0m\u001b[0;34m:\u001b[0m\u001b[0;34m\u001b[0m\u001b[0m\n\u001b[0m\u001b[1;32m   1528\u001b[0m             \u001b[0mself\u001b[0m\u001b[0;34m.\u001b[0m\u001b[0madd_line\u001b[0m\u001b[0;34m(\u001b[0m\u001b[0mline\u001b[0m\u001b[0;34m)\u001b[0m\u001b[0;34m\u001b[0m\u001b[0m\n\u001b[1;32m   1529\u001b[0m             \u001b[0mlines\u001b[0m\u001b[0;34m.\u001b[0m\u001b[0mappend\u001b[0m\u001b[0;34m(\u001b[0m\u001b[0mline\u001b[0m\u001b[0;34m)\u001b[0m\u001b[0;34m\u001b[0m\u001b[0m\n",
      "\u001b[0;32m~/anaconda3/lib/python3.6/site-packages/matplotlib/axes/_base.py\u001b[0m in \u001b[0;36m_grab_next_args\u001b[0;34m(self, *args, **kwargs)\u001b[0m\n\u001b[1;32m    404\u001b[0m                 \u001b[0mthis\u001b[0m \u001b[0;34m+=\u001b[0m \u001b[0margs\u001b[0m\u001b[0;34m[\u001b[0m\u001b[0;36m0\u001b[0m\u001b[0;34m]\u001b[0m\u001b[0;34m,\u001b[0m\u001b[0;34m\u001b[0m\u001b[0m\n\u001b[1;32m    405\u001b[0m                 \u001b[0margs\u001b[0m \u001b[0;34m=\u001b[0m \u001b[0margs\u001b[0m\u001b[0;34m[\u001b[0m\u001b[0;36m1\u001b[0m\u001b[0;34m:\u001b[0m\u001b[0;34m]\u001b[0m\u001b[0;34m\u001b[0m\u001b[0m\n\u001b[0;32m--> 406\u001b[0;31m             \u001b[0;32mfor\u001b[0m \u001b[0mseg\u001b[0m \u001b[0;32min\u001b[0m \u001b[0mself\u001b[0m\u001b[0;34m.\u001b[0m\u001b[0m_plot_args\u001b[0m\u001b[0;34m(\u001b[0m\u001b[0mthis\u001b[0m\u001b[0;34m,\u001b[0m \u001b[0mkwargs\u001b[0m\u001b[0;34m)\u001b[0m\u001b[0;34m:\u001b[0m\u001b[0;34m\u001b[0m\u001b[0m\n\u001b[0m\u001b[1;32m    407\u001b[0m                 \u001b[0;32myield\u001b[0m \u001b[0mseg\u001b[0m\u001b[0;34m\u001b[0m\u001b[0m\n\u001b[1;32m    408\u001b[0m \u001b[0;34m\u001b[0m\u001b[0m\n",
      "\u001b[0;32m~/anaconda3/lib/python3.6/site-packages/matplotlib/axes/_base.py\u001b[0m in \u001b[0;36m_plot_args\u001b[0;34m(self, tup, kwargs)\u001b[0m\n\u001b[1;32m    381\u001b[0m             \u001b[0mx\u001b[0m\u001b[0;34m,\u001b[0m \u001b[0my\u001b[0m \u001b[0;34m=\u001b[0m \u001b[0mindex_of\u001b[0m\u001b[0;34m(\u001b[0m\u001b[0mtup\u001b[0m\u001b[0;34m[\u001b[0m\u001b[0;34m-\u001b[0m\u001b[0;36m1\u001b[0m\u001b[0;34m]\u001b[0m\u001b[0;34m)\u001b[0m\u001b[0;34m\u001b[0m\u001b[0m\n\u001b[1;32m    382\u001b[0m \u001b[0;34m\u001b[0m\u001b[0m\n\u001b[0;32m--> 383\u001b[0;31m         \u001b[0mx\u001b[0m\u001b[0;34m,\u001b[0m \u001b[0my\u001b[0m \u001b[0;34m=\u001b[0m \u001b[0mself\u001b[0m\u001b[0;34m.\u001b[0m\u001b[0m_xy_from_xy\u001b[0m\u001b[0;34m(\u001b[0m\u001b[0mx\u001b[0m\u001b[0;34m,\u001b[0m \u001b[0my\u001b[0m\u001b[0;34m)\u001b[0m\u001b[0;34m\u001b[0m\u001b[0m\n\u001b[0m\u001b[1;32m    384\u001b[0m \u001b[0;34m\u001b[0m\u001b[0m\n\u001b[1;32m    385\u001b[0m         \u001b[0;32mif\u001b[0m \u001b[0mself\u001b[0m\u001b[0;34m.\u001b[0m\u001b[0mcommand\u001b[0m \u001b[0;34m==\u001b[0m \u001b[0;34m'plot'\u001b[0m\u001b[0;34m:\u001b[0m\u001b[0;34m\u001b[0m\u001b[0m\n",
      "\u001b[0;32m~/anaconda3/lib/python3.6/site-packages/matplotlib/axes/_base.py\u001b[0m in \u001b[0;36m_xy_from_xy\u001b[0;34m(self, x, y)\u001b[0m\n\u001b[1;32m    240\u001b[0m         \u001b[0;32mif\u001b[0m \u001b[0mx\u001b[0m\u001b[0;34m.\u001b[0m\u001b[0mshape\u001b[0m\u001b[0;34m[\u001b[0m\u001b[0;36m0\u001b[0m\u001b[0;34m]\u001b[0m \u001b[0;34m!=\u001b[0m \u001b[0my\u001b[0m\u001b[0;34m.\u001b[0m\u001b[0mshape\u001b[0m\u001b[0;34m[\u001b[0m\u001b[0;36m0\u001b[0m\u001b[0;34m]\u001b[0m\u001b[0;34m:\u001b[0m\u001b[0;34m\u001b[0m\u001b[0m\n\u001b[1;32m    241\u001b[0m             raise ValueError(\"x and y must have same first dimension, but \"\n\u001b[0;32m--> 242\u001b[0;31m                              \"have shapes {} and {}\".format(x.shape, y.shape))\n\u001b[0m\u001b[1;32m    243\u001b[0m         \u001b[0;32mif\u001b[0m \u001b[0mx\u001b[0m\u001b[0;34m.\u001b[0m\u001b[0mndim\u001b[0m \u001b[0;34m>\u001b[0m \u001b[0;36m2\u001b[0m \u001b[0;32mor\u001b[0m \u001b[0my\u001b[0m\u001b[0;34m.\u001b[0m\u001b[0mndim\u001b[0m \u001b[0;34m>\u001b[0m \u001b[0;36m2\u001b[0m\u001b[0;34m:\u001b[0m\u001b[0;34m\u001b[0m\u001b[0m\n\u001b[1;32m    244\u001b[0m             raise ValueError(\"x and y can be no greater than 2-D, but have \"\n",
      "\u001b[0;31mValueError\u001b[0m: x and y must have same first dimension, but have shapes (0,) and (21,)"
     ]
    },
    {
     "data": {
      "image/png": "[encoded data removed]",
      "text/plain": [
       "<Figure size 648x360 with 1 Axes>"
      ]
     },
     "metadata": {},
     "output_type": "display_data"
    }
   ],
   "source": [
    "#Stochastic Gradient Ascent\n",
    "initial_coefficients = np.zeros(194)\n",
    "step_size = 5e-1\n",
    "batch_size = 1\n",
    "max_iter = 10\n",
    "smoothining_window = 30\n",
    " \n",
    "coeff_train, log_likelihood_train = logistic_regression_SG(feature_matrix_train, sentiment_train,\\\n",
    "                       initial_coefficients, batch_size, max_iter,\\\n",
    "                       step_size)\n",
    "\n",
    "make_plot(log_likelihood_train, feature_matrix_train.shape[0],\\\n",
    "         batch_size, 30)"
   ]
  },
  {
   "cell_type": "code",
   "execution_count": null,
   "metadata": {},
   "outputs": [],
   "source": []
  },
  {
   "cell_type": "code",
   "execution_count": null,
   "metadata": {},
   "outputs": [],
   "source": []
  },
  {
   "cell_type": "code",
   "execution_count": null,
   "metadata": {},
   "outputs": [],
   "source": []
  },
  {
   "cell_type": "code",
   "execution_count": null,
   "metadata": {},
   "outputs": [],
   "source": []
  }
 ],
 "metadata": {
  "kernelspec": {
   "display_name": "Python 3",
   "language": "python",
   "name": "python3"
  },
  "language_info": {
   "codemirror_mode": {
    "name": "ipython",
    "version": 3
   },
   "file_extension": ".py",
   "mimetype": "text/x-python",
   "name": "python",
   "nbconvert_exporter": "python",
   "pygments_lexer": "ipython3",
   "version": "3.6.5"
  }
 },
 "nbformat": 4,
 "nbformat_minor": 2
}
