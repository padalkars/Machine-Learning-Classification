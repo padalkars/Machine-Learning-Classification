{
 "cells": [
  {
   "cell_type": "code",
   "execution_count": 1,
   "metadata": {},
   "outputs": [],
   "source": [
    "#For data frame related and matrix related operations\n",
    "import pandas as pd\n",
    "import numpy as np"
   ]
  },
  {
   "cell_type": "code",
   "execution_count": 2,
   "metadata": {},
   "outputs": [],
   "source": [
    "#For plotting and charting\n",
    "import matplotlib.pyplot as plt"
   ]
  },
  {
   "cell_type": "code",
   "execution_count": 3,
   "metadata": {},
   "outputs": [],
   "source": [
    "import os"
   ]
  },
  {
   "cell_type": "code",
   "execution_count": 4,
   "metadata": {},
   "outputs": [],
   "source": [
    "#Machine Learning Algorithms and Evaluation Metrics Library\n",
    "from sklearn.linear_model import LogisticRegression as LR\n",
    "from sklearn.metrics import accuracy_score"
   ]
  },
  {
   "cell_type": "code",
   "execution_count": 5,
   "metadata": {},
   "outputs": [],
   "source": [
    "from sklearn.model_selection import train_test_split\n",
    "from sklearn.feature_extraction.text import CountVectorizer"
   ]
  },
  {
   "cell_type": "code",
   "execution_count": 6,
   "metadata": {},
   "outputs": [],
   "source": [
    "import string"
   ]
  },
  {
   "cell_type": "code",
   "execution_count": 7,
   "metadata": {},
   "outputs": [],
   "source": [
    "#Import the Libraries related to ML Algorithms\n",
    "from sklearn.linear_model import LogisticRegression"
   ]
  },
  {
   "cell_type": "code",
   "execution_count": 8,
   "metadata": {},
   "outputs": [],
   "source": [
    "#Import Classification Metrics\n",
    "from sklearn.metrics import confusion_matrix, roc_auc_score"
   ]
  },
  {
   "cell_type": "code",
   "execution_count": 9,
   "metadata": {},
   "outputs": [],
   "source": [
    "from collections import Counter"
   ]
  },
  {
   "cell_type": "code",
   "execution_count": 10,
   "metadata": {},
   "outputs": [],
   "source": [
    "baby = pd.read_csv('/home/shrikrishna/Desktop/Coursera Machine Learning/A Case Study Approach/Week 3/amazon_baby.csv')"
   ]
  },
  {
   "cell_type": "code",
   "execution_count": 11,
   "metadata": {},
   "outputs": [
    {
     "data": {
      "text/html": [
       "<div>\n",
       "<style scoped>\n",
       "    .dataframe tbody tr th:only-of-type {\n",
       "        vertical-align: middle;\n",
       "    }\n",
       "\n",
       "    .dataframe tbody tr th {\n",
       "        vertical-align: top;\n",
       "    }\n",
       "\n",
       "    .dataframe thead th {\n",
       "        text-align: right;\n",
       "    }\n",
       "</style>\n",
       "<table border=\"1\" class=\"dataframe\">\n",
       "  <thead>\n",
       "    <tr style=\"text-align: right;\">\n",
       "      <th></th>\n",
       "      <th>name</th>\n",
       "      <th>review</th>\n",
       "      <th>rating</th>\n",
       "    </tr>\n",
       "  </thead>\n",
       "  <tbody>\n",
       "    <tr>\n",
       "      <th>0</th>\n",
       "      <td>Planetwise Flannel Wipes</td>\n",
       "      <td>These flannel wipes are OK, but in my opinion ...</td>\n",
       "      <td>3</td>\n",
       "    </tr>\n",
       "    <tr>\n",
       "      <th>1</th>\n",
       "      <td>Planetwise Wipe Pouch</td>\n",
       "      <td>it came early and was not disappointed. i love...</td>\n",
       "      <td>5</td>\n",
       "    </tr>\n",
       "    <tr>\n",
       "      <th>2</th>\n",
       "      <td>Annas Dream Full Quilt with 2 Shams</td>\n",
       "      <td>Very soft and comfortable and warmer than it l...</td>\n",
       "      <td>5</td>\n",
       "    </tr>\n",
       "    <tr>\n",
       "      <th>3</th>\n",
       "      <td>Stop Pacifier Sucking without tears with Thumb...</td>\n",
       "      <td>This is a product well worth the purchase.  I ...</td>\n",
       "      <td>5</td>\n",
       "    </tr>\n",
       "    <tr>\n",
       "      <th>4</th>\n",
       "      <td>Stop Pacifier Sucking without tears with Thumb...</td>\n",
       "      <td>All of my kids have cried non-stop when I trie...</td>\n",
       "      <td>5</td>\n",
       "    </tr>\n",
       "  </tbody>\n",
       "</table>\n",
       "</div>"
      ],
      "text/plain": [
       "                                                name  \\\n",
       "0                           Planetwise Flannel Wipes   \n",
       "1                              Planetwise Wipe Pouch   \n",
       "2                Annas Dream Full Quilt with 2 Shams   \n",
       "3  Stop Pacifier Sucking without tears with Thumb...   \n",
       "4  Stop Pacifier Sucking without tears with Thumb...   \n",
       "\n",
       "                                              review  rating  \n",
       "0  These flannel wipes are OK, but in my opinion ...       3  \n",
       "1  it came early and was not disappointed. i love...       5  \n",
       "2  Very soft and comfortable and warmer than it l...       5  \n",
       "3  This is a product well worth the purchase.  I ...       5  \n",
       "4  All of my kids have cried non-stop when I trie...       5  "
      ]
     },
     "execution_count": 11,
     "metadata": {},
     "output_type": "execute_result"
    }
   ],
   "source": [
    "baby.head()"
   ]
  },
  {
   "cell_type": "markdown",
   "metadata": {},
   "source": [
    "## Perform Text Cleaning"
   ]
  },
  {
   "cell_type": "code",
   "execution_count": 12,
   "metadata": {},
   "outputs": [],
   "source": [
    "#Removing Punctuation strips punctuation from line of text\n",
    "def remove_punctuation(text):\n",
    "    #print(type(text))\n",
    "    exclude = set(string.punctuation)\n",
    "    #print((\"\".join(ch for ch in text if(ch not in exclude))))\n",
    "    return (\"\".join(ch for ch in text if(ch not in exclude)))\n",
    "    "
   ]
  },
  {
   "cell_type": "code",
   "execution_count": 13,
   "metadata": {},
   "outputs": [],
   "source": [
    "#Fill NA\n",
    "baby.review = baby.fillna({'review': ''})['review']"
   ]
  },
  {
   "cell_type": "code",
   "execution_count": 14,
   "metadata": {},
   "outputs": [],
   "source": [
    "#Remove Punctuation from the reviews\n",
    "baby['review_clean'] = list(map(remove_punctuation, baby['review'].tolist()))"
   ]
  },
  {
   "cell_type": "markdown",
   "metadata": {},
   "source": [
    "## Extract Sentiments"
   ]
  },
  {
   "cell_type": "markdown",
   "metadata": {},
   "source": [
    "### 3. We will ignore all reviews with rating = 3, since they tend to have a neutral sentiment¶"
   ]
  },
  {
   "cell_type": "code",
   "execution_count": 15,
   "metadata": {},
   "outputs": [],
   "source": [
    "baby = baby.loc[baby['review']!=3, :]"
   ]
  },
  {
   "cell_type": "markdown",
   "metadata": {},
   "source": [
    "### 4. Label the ratings as positive class(+1) and negative class(-1)"
   ]
  },
  {
   "cell_type": "code",
   "execution_count": 16,
   "metadata": {},
   "outputs": [],
   "source": [
    "baby['sentiment'] = list(map(lambda x:-1 if(x<3) else 1,\n",
    "                            baby['rating'].tolist()))"
   ]
  },
  {
   "cell_type": "code",
   "execution_count": 17,
   "metadata": {},
   "outputs": [
    {
     "data": {
      "text/html": [
       "<div>\n",
       "<style scoped>\n",
       "    .dataframe tbody tr th:only-of-type {\n",
       "        vertical-align: middle;\n",
       "    }\n",
       "\n",
       "    .dataframe tbody tr th {\n",
       "        vertical-align: top;\n",
       "    }\n",
       "\n",
       "    .dataframe thead th {\n",
       "        text-align: right;\n",
       "    }\n",
       "</style>\n",
       "<table border=\"1\" class=\"dataframe\">\n",
       "  <thead>\n",
       "    <tr style=\"text-align: right;\">\n",
       "      <th></th>\n",
       "      <th>name</th>\n",
       "      <th>review</th>\n",
       "      <th>rating</th>\n",
       "      <th>review_clean</th>\n",
       "      <th>sentiment</th>\n",
       "    </tr>\n",
       "  </thead>\n",
       "  <tbody>\n",
       "  </tbody>\n",
       "</table>\n",
       "</div>"
      ],
      "text/plain": [
       "Empty DataFrame\n",
       "Columns: [name, review, rating, review_clean, sentiment]\n",
       "Index: []"
      ]
     },
     "execution_count": 17,
     "metadata": {},
     "output_type": "execute_result"
    }
   ],
   "source": [
    "#Check whether any review is having rating>3 and sentiment = -1 is present\n",
    "baby.loc[(baby['sentiment']==-1) & (baby['rating']>3), :]"
   ]
  },
  {
   "cell_type": "code",
   "execution_count": 18,
   "metadata": {},
   "outputs": [
    {
     "data": {
      "text/plain": [
       "(26493, 5)"
      ]
     },
     "execution_count": 18,
     "metadata": {},
     "output_type": "execute_result"
    }
   ],
   "source": [
    "baby.loc[(baby['sentiment']==-1) & (baby['rating']<3), :].shape"
   ]
  },
  {
   "cell_type": "markdown",
   "metadata": {},
   "source": [
    "## Read the Training and Test Files"
   ]
  },
  {
   "cell_type": "code",
   "execution_count": 19,
   "metadata": {},
   "outputs": [
    {
     "data": {
      "text/plain": [
       "'/home/shrikrishna/Desktop/Coursera Machine Learning/Machine Learning: Classification/Week 6 - Precision & Recall'"
      ]
     },
     "execution_count": 19,
     "metadata": {},
     "output_type": "execute_result"
    }
   ],
   "source": [
    "os.getcwd()"
   ]
  },
  {
   "cell_type": "code",
   "execution_count": 20,
   "metadata": {},
   "outputs": [],
   "source": [
    "base_path = '/home/shrikrishna/Desktop/Coursera Machine Learning/Machine Learning: Classification/Week 1'\n",
    "train_path = base_path + '/train-idx.json/train-idx.json'\n",
    "test_path = base_path + '/test-idx.json/test-idx.json'"
   ]
  },
  {
   "cell_type": "code",
   "execution_count": 21,
   "metadata": {},
   "outputs": [],
   "source": [
    "train_data_index, test_data_index = [pd.read_json(path) for path in \n",
    "                                    [train_path, test_path]]\n",
    "train_data = baby.iloc[train_data_index[0], :]\n",
    "test_data = baby.iloc[test_data_index[0], :]"
   ]
  },
  {
   "cell_type": "code",
   "execution_count": 22,
   "metadata": {
    "scrolled": true
   },
   "outputs": [
    {
     "data": {
      "text/html": [
       "<div>\n",
       "<style scoped>\n",
       "    .dataframe tbody tr th:only-of-type {\n",
       "        vertical-align: middle;\n",
       "    }\n",
       "\n",
       "    .dataframe tbody tr th {\n",
       "        vertical-align: top;\n",
       "    }\n",
       "\n",
       "    .dataframe thead th {\n",
       "        text-align: right;\n",
       "    }\n",
       "</style>\n",
       "<table border=\"1\" class=\"dataframe\">\n",
       "  <thead>\n",
       "    <tr style=\"text-align: right;\">\n",
       "      <th></th>\n",
       "      <th>name</th>\n",
       "      <th>review</th>\n",
       "      <th>rating</th>\n",
       "      <th>review_clean</th>\n",
       "      <th>sentiment</th>\n",
       "    </tr>\n",
       "  </thead>\n",
       "  <tbody>\n",
       "    <tr>\n",
       "      <th>0</th>\n",
       "      <td>Planetwise Flannel Wipes</td>\n",
       "      <td>These flannel wipes are OK, but in my opinion ...</td>\n",
       "      <td>3</td>\n",
       "      <td>These flannel wipes are OK but in my opinion n...</td>\n",
       "      <td>1</td>\n",
       "    </tr>\n",
       "    <tr>\n",
       "      <th>1</th>\n",
       "      <td>Planetwise Wipe Pouch</td>\n",
       "      <td>it came early and was not disappointed. i love...</td>\n",
       "      <td>5</td>\n",
       "      <td>it came early and was not disappointed i love ...</td>\n",
       "      <td>1</td>\n",
       "    </tr>\n",
       "    <tr>\n",
       "      <th>2</th>\n",
       "      <td>Annas Dream Full Quilt with 2 Shams</td>\n",
       "      <td>Very soft and comfortable and warmer than it l...</td>\n",
       "      <td>5</td>\n",
       "      <td>Very soft and comfortable and warmer than it l...</td>\n",
       "      <td>1</td>\n",
       "    </tr>\n",
       "    <tr>\n",
       "      <th>3</th>\n",
       "      <td>Stop Pacifier Sucking without tears with Thumb...</td>\n",
       "      <td>This is a product well worth the purchase.  I ...</td>\n",
       "      <td>5</td>\n",
       "      <td>This is a product well worth the purchase  I h...</td>\n",
       "      <td>1</td>\n",
       "    </tr>\n",
       "    <tr>\n",
       "      <th>4</th>\n",
       "      <td>Stop Pacifier Sucking without tears with Thumb...</td>\n",
       "      <td>All of my kids have cried non-stop when I trie...</td>\n",
       "      <td>5</td>\n",
       "      <td>All of my kids have cried nonstop when I tried...</td>\n",
       "      <td>1</td>\n",
       "    </tr>\n",
       "  </tbody>\n",
       "</table>\n",
       "</div>"
      ],
      "text/plain": [
       "                                                name  \\\n",
       "0                           Planetwise Flannel Wipes   \n",
       "1                              Planetwise Wipe Pouch   \n",
       "2                Annas Dream Full Quilt with 2 Shams   \n",
       "3  Stop Pacifier Sucking without tears with Thumb...   \n",
       "4  Stop Pacifier Sucking without tears with Thumb...   \n",
       "\n",
       "                                              review  rating  \\\n",
       "0  These flannel wipes are OK, but in my opinion ...       3   \n",
       "1  it came early and was not disappointed. i love...       5   \n",
       "2  Very soft and comfortable and warmer than it l...       5   \n",
       "3  This is a product well worth the purchase.  I ...       5   \n",
       "4  All of my kids have cried non-stop when I trie...       5   \n",
       "\n",
       "                                        review_clean  sentiment  \n",
       "0  These flannel wipes are OK but in my opinion n...          1  \n",
       "1  it came early and was not disappointed i love ...          1  \n",
       "2  Very soft and comfortable and warmer than it l...          1  \n",
       "3  This is a product well worth the purchase  I h...          1  \n",
       "4  All of my kids have cried nonstop when I tried...          1  "
      ]
     },
     "execution_count": 22,
     "metadata": {},
     "output_type": "execute_result"
    }
   ],
   "source": [
    "train_data.head()"
   ]
  },
  {
   "cell_type": "code",
   "execution_count": 23,
   "metadata": {},
   "outputs": [
    {
     "data": {
      "text/html": [
       "<div>\n",
       "<style scoped>\n",
       "    .dataframe tbody tr th:only-of-type {\n",
       "        vertical-align: middle;\n",
       "    }\n",
       "\n",
       "    .dataframe tbody tr th {\n",
       "        vertical-align: top;\n",
       "    }\n",
       "\n",
       "    .dataframe thead th {\n",
       "        text-align: right;\n",
       "    }\n",
       "</style>\n",
       "<table border=\"1\" class=\"dataframe\">\n",
       "  <thead>\n",
       "    <tr style=\"text-align: right;\">\n",
       "      <th></th>\n",
       "      <th>name</th>\n",
       "      <th>review</th>\n",
       "      <th>rating</th>\n",
       "      <th>review_clean</th>\n",
       "      <th>sentiment</th>\n",
       "    </tr>\n",
       "  </thead>\n",
       "  <tbody>\n",
       "    <tr>\n",
       "      <th>8</th>\n",
       "      <td>Baby Tracker&amp;reg; - Daily Childcare Journal, S...</td>\n",
       "      <td>A friend of mine pinned this product on Pinter...</td>\n",
       "      <td>5</td>\n",
       "      <td>A friend of mine pinned this product on Pinter...</td>\n",
       "      <td>1</td>\n",
       "    </tr>\n",
       "    <tr>\n",
       "      <th>9</th>\n",
       "      <td>Baby Tracker&amp;reg; - Daily Childcare Journal, S...</td>\n",
       "      <td>This has been an easy way for my nanny to reco...</td>\n",
       "      <td>4</td>\n",
       "      <td>This has been an easy way for my nanny to reco...</td>\n",
       "      <td>1</td>\n",
       "    </tr>\n",
       "    <tr>\n",
       "      <th>14</th>\n",
       "      <td>Nature\\'s Lullabies First Year Sticker Calendar</td>\n",
       "      <td>Space for monthly photos, info and a lot of us...</td>\n",
       "      <td>5</td>\n",
       "      <td>Space for monthly photos info and a lot of use...</td>\n",
       "      <td>1</td>\n",
       "    </tr>\n",
       "    <tr>\n",
       "      <th>18</th>\n",
       "      <td>Nature\\'s Lullabies Second Year Sticker Calendar</td>\n",
       "      <td>I completed a calendar for my son\\'s first yea...</td>\n",
       "      <td>4</td>\n",
       "      <td>I completed a calendar for my sons first year ...</td>\n",
       "      <td>1</td>\n",
       "    </tr>\n",
       "    <tr>\n",
       "      <th>24</th>\n",
       "      <td>Nature\\'s Lullabies Second Year Sticker Calendar</td>\n",
       "      <td>Wife loves this calender. Comes with a lot of ...</td>\n",
       "      <td>5</td>\n",
       "      <td>Wife loves this calender Comes with a lot of s...</td>\n",
       "      <td>1</td>\n",
       "    </tr>\n",
       "  </tbody>\n",
       "</table>\n",
       "</div>"
      ],
      "text/plain": [
       "                                                 name  \\\n",
       "8   Baby Tracker&reg; - Daily Childcare Journal, S...   \n",
       "9   Baby Tracker&reg; - Daily Childcare Journal, S...   \n",
       "14    Nature\\'s Lullabies First Year Sticker Calendar   \n",
       "18   Nature\\'s Lullabies Second Year Sticker Calendar   \n",
       "24   Nature\\'s Lullabies Second Year Sticker Calendar   \n",
       "\n",
       "                                               review  rating  \\\n",
       "8   A friend of mine pinned this product on Pinter...       5   \n",
       "9   This has been an easy way for my nanny to reco...       4   \n",
       "14  Space for monthly photos, info and a lot of us...       5   \n",
       "18  I completed a calendar for my son\\'s first yea...       4   \n",
       "24  Wife loves this calender. Comes with a lot of ...       5   \n",
       "\n",
       "                                         review_clean  sentiment  \n",
       "8   A friend of mine pinned this product on Pinter...          1  \n",
       "9   This has been an easy way for my nanny to reco...          1  \n",
       "14  Space for monthly photos info and a lot of use...          1  \n",
       "18  I completed a calendar for my sons first year ...          1  \n",
       "24  Wife loves this calender Comes with a lot of s...          1  "
      ]
     },
     "execution_count": 23,
     "metadata": {},
     "output_type": "execute_result"
    }
   ],
   "source": [
    "test_data.head()"
   ]
  },
  {
   "cell_type": "markdown",
   "metadata": {},
   "source": [
    "## Build the word count vector for each review\n"
   ]
  },
  {
   "cell_type": "code",
   "execution_count": 24,
   "metadata": {},
   "outputs": [],
   "source": [
    "vectorizer = CountVectorizer(token_pattern=r'\\b\\w+\\b')\n",
    "# Use this token pattern to keep single-letter words\n",
    "# First, learn vocabulary from the training data and assign columns to words\n",
    "\n",
    "# Then convert the training data into a sparse matrix\n",
    "train_matrix = vectorizer.fit_transform(train_data['review_clean'])\n",
    "\n",
    "# Second, convert the test data into a sparse matrix, using the same word-column mapping\n",
    "test_matrix = vectorizer.transform(test_data['review_clean'])"
   ]
  },
  {
   "cell_type": "markdown",
   "metadata": {},
   "source": [
    "## 7. Learn a logistic regression classifier using the training data."
   ]
  },
  {
   "cell_type": "code",
   "execution_count": 25,
   "metadata": {},
   "outputs": [
    {
     "data": {
      "text/plain": [
       "LogisticRegression(C=1.0, class_weight=None, dual=False, fit_intercept=True,\n",
       "          intercept_scaling=1, max_iter=100, multi_class='ovr', n_jobs=1,\n",
       "          penalty='l2', random_state=None, solver='liblinear', tol=0.0001,\n",
       "          verbose=0, warm_start=False)"
      ]
     },
     "execution_count": 25,
     "metadata": {},
     "output_type": "execute_result"
    }
   ],
   "source": [
    "model = LR()\n",
    "\n",
    "#Fit the model on training data with sentiment as the target\n",
    "model.fit(train_matrix, train_data['sentiment'])\n"
   ]
  },
  {
   "cell_type": "markdown",
   "metadata": {},
   "source": [
    "## Model Evaluation"
   ]
  },
  {
   "cell_type": "code",
   "execution_count": 26,
   "metadata": {},
   "outputs": [
    {
     "name": "stdout",
     "output_type": "stream",
     "text": [
      "Accuracy Test Data:- 0.913\n"
     ]
    }
   ],
   "source": [
    "accuracy_model_test = accuracy_score(test_data['sentiment'], \n",
    "                                     model.predict(test_matrix))\n",
    "print(\"Accuracy Test Data:- %.3f\" %(accuracy_model_test))"
   ]
  },
  {
   "cell_type": "code",
   "execution_count": 27,
   "metadata": {},
   "outputs": [],
   "source": [
    "prediction_test, prediction_train = [model.predict(data) for data in\n",
    "                                    [test_matrix, train_matrix]]"
   ]
  },
  {
   "cell_type": "markdown",
   "metadata": {},
   "source": [
    "## Baseline: Majority class prediction\n",
    "Typically, a good model should beat the majority class classifier. Since the majority class in this dataset is the positive class (i.e., there are more positive reviews than negative reviews), the accuracy of the majority class classifier is simply the fraction of positive reviews in the test set:"
   ]
  },
  {
   "cell_type": "code",
   "execution_count": 86,
   "metadata": {},
   "outputs": [
    {
     "data": {
      "text/plain": [
       "{1: 113858, -1: 19558}"
      ]
     },
     "execution_count": 86,
     "metadata": {},
     "output_type": "execute_result"
    }
   ],
   "source": [
    "dict(Counter(train_data['sentiment']))"
   ]
  },
  {
   "cell_type": "code",
   "execution_count": 28,
   "metadata": {},
   "outputs": [
    {
     "name": "stdout",
     "output_type": "stream",
     "text": [
      "Baseline accuracy (majority class classifier): 0.8561915046796257\n"
     ]
    }
   ],
   "source": [
    "baseline = len(test_data[test_data['sentiment'] == 1])/len(test_data)\n",
    "print (\"Baseline accuracy (majority class classifier): %s\" % baseline)"
   ]
  },
  {
   "cell_type": "markdown",
   "metadata": {},
   "source": [
    "### Quiz question: Using accuracy as the evaluation metric, was our logistic regression model better than the baseline (majority class classifier)?"
   ]
  },
  {
   "cell_type": "code",
   "execution_count": 29,
   "metadata": {},
   "outputs": [
    {
     "name": "stdout",
     "output_type": "stream",
     "text": [
      "Yes\n"
     ]
    }
   ],
   "source": [
    "ans = \"Yes\"\n",
    "print(ans)"
   ]
  },
  {
   "cell_type": "code",
   "execution_count": 30,
   "metadata": {},
   "outputs": [
    {
     "data": {
      "text/html": [
       "<div>\n",
       "<style scoped>\n",
       "    .dataframe tbody tr th:only-of-type {\n",
       "        vertical-align: middle;\n",
       "    }\n",
       "\n",
       "    .dataframe tbody tr th {\n",
       "        vertical-align: top;\n",
       "    }\n",
       "\n",
       "    .dataframe thead th {\n",
       "        text-align: right;\n",
       "    }\n",
       "</style>\n",
       "<table border=\"1\" class=\"dataframe\">\n",
       "  <thead>\n",
       "    <tr style=\"text-align: right;\">\n",
       "      <th></th>\n",
       "      <th>Actual</th>\n",
       "      <th>Predicted</th>\n",
       "    </tr>\n",
       "  </thead>\n",
       "  <tbody>\n",
       "    <tr>\n",
       "      <th>8</th>\n",
       "      <td>1</td>\n",
       "      <td>1</td>\n",
       "    </tr>\n",
       "    <tr>\n",
       "      <th>9</th>\n",
       "      <td>1</td>\n",
       "      <td>1</td>\n",
       "    </tr>\n",
       "    <tr>\n",
       "      <th>14</th>\n",
       "      <td>1</td>\n",
       "      <td>1</td>\n",
       "    </tr>\n",
       "    <tr>\n",
       "      <th>18</th>\n",
       "      <td>1</td>\n",
       "      <td>1</td>\n",
       "    </tr>\n",
       "    <tr>\n",
       "      <th>24</th>\n",
       "      <td>1</td>\n",
       "      <td>1</td>\n",
       "    </tr>\n",
       "  </tbody>\n",
       "</table>\n",
       "</div>"
      ],
      "text/plain": [
       "    Actual  Predicted\n",
       "8        1          1\n",
       "9        1          1\n",
       "14       1          1\n",
       "18       1          1\n",
       "24       1          1"
      ]
     },
     "execution_count": 30,
     "metadata": {},
     "output_type": "execute_result"
    }
   ],
   "source": [
    "actual_vs_predicted_test = pd.DataFrame({'Actual':test_data['sentiment'],\n",
    "                                        'Predicted': prediction_test},\n",
    "                                        columns = ['Actual', 'Predicted'])\n",
    "actual_vs_predicted_test.head()"
   ]
  },
  {
   "cell_type": "markdown",
   "metadata": {},
   "source": [
    "## Confusion Matrix"
   ]
  },
  {
   "cell_type": "code",
   "execution_count": 31,
   "metadata": {},
   "outputs": [
    {
     "data": {
      "text/plain": [
       "array([[ 2934,  1860],\n",
       "       [ 1031, 27511]])"
      ]
     },
     "execution_count": 31,
     "metadata": {},
     "output_type": "execute_result"
    }
   ],
   "source": [
    "#Confusion Matrix for test data\n",
    "\n",
    "CM = confusion_matrix(test_data['sentiment'], prediction_test)\n",
    "CM\n"
   ]
  },
  {
   "cell_type": "code",
   "execution_count": 32,
   "metadata": {},
   "outputs": [
    {
     "data": {
      "text/plain": [
       "array([-1,  1])"
      ]
     },
     "execution_count": 32,
     "metadata": {},
     "output_type": "execute_result"
    }
   ],
   "source": [
    "model.classes_"
   ]
  },
  {
   "cell_type": "code",
   "execution_count": 33,
   "metadata": {},
   "outputs": [
    {
     "name": "stdout",
     "output_type": "stream",
     "text": [
      "Actual Label\tPredicted Label\t Count\n",
      "--------------------------------------------\n",
      "     -1       |       -1        |  2934\n",
      "     -1       |        1        |  1860\n",
      "      1       |       -1        |  1031\n",
      "      1       |        1        | 27511\n"
     ]
    }
   ],
   "source": [
    "print(\"Actual Label\\tPredicted Label\\t Count\")\n",
    "print(\"--------------------------------------------\")\n",
    "\n",
    "for i in range(len(model.classes_)):\n",
    "    for j in range(len(model.classes_)):\n",
    "        print('{0:^13} | {1:^15} | {2:5d}'.format(\n",
    "            model.classes_[i], model.classes_[j], CM[i,j]))\n",
    "        \n",
    "        "
   ]
  },
  {
   "cell_type": "code",
   "execution_count": 34,
   "metadata": {
    "scrolled": true
   },
   "outputs": [
    {
     "name": "stdout",
     "output_type": "stream",
     "text": [
      "Help on function confusion_matrix in module sklearn.metrics.classification:\n",
      "\n",
      "confusion_matrix(y_true, y_pred, labels=None, sample_weight=None)\n",
      "    Compute confusion matrix to evaluate the accuracy of a classification\n",
      "    \n",
      "    By definition a confusion matrix :math:`C` is such that :math:`C_{i, j}`\n",
      "    is equal to the number of observations known to be in group :math:`i` but\n",
      "    predicted to be in group :math:`j`.\n",
      "    \n",
      "    Thus in binary classification, the count of true negatives is\n",
      "    :math:`C_{0,0}`, false negatives is :math:`C_{1,0}`, true positives is\n",
      "    :math:`C_{1,1}` and false positives is :math:`C_{0,1}`.\n",
      "    \n",
      "    Read more in the :ref:`User Guide <confusion_matrix>`.\n",
      "    \n",
      "    Parameters\n",
      "    ----------\n",
      "    y_true : array, shape = [n_samples]\n",
      "        Ground truth (correct) target values.\n",
      "    \n",
      "    y_pred : array, shape = [n_samples]\n",
      "        Estimated targets as returned by a classifier.\n",
      "    \n",
      "    labels : array, shape = [n_classes], optional\n",
      "        List of labels to index the matrix. This may be used to reorder\n",
      "        or select a subset of labels.\n",
      "        If none is given, those that appear at least once\n",
      "        in ``y_true`` or ``y_pred`` are used in sorted order.\n",
      "    \n",
      "    sample_weight : array-like of shape = [n_samples], optional\n",
      "        Sample weights.\n",
      "    \n",
      "    Returns\n",
      "    -------\n",
      "    C : array, shape = [n_classes, n_classes]\n",
      "        Confusion matrix\n",
      "    \n",
      "    References\n",
      "    ----------\n",
      "    .. [1] `Wikipedia entry for the Confusion matrix\n",
      "           <https://en.wikipedia.org/wiki/Confusion_matrix>`_\n",
      "    \n",
      "    Examples\n",
      "    --------\n",
      "    >>> from sklearn.metrics import confusion_matrix\n",
      "    >>> y_true = [2, 0, 2, 2, 0, 1]\n",
      "    >>> y_pred = [0, 0, 2, 2, 0, 2]\n",
      "    >>> confusion_matrix(y_true, y_pred)\n",
      "    array([[2, 0, 0],\n",
      "           [0, 0, 1],\n",
      "           [1, 0, 2]])\n",
      "    \n",
      "    >>> y_true = [\"cat\", \"ant\", \"cat\", \"cat\", \"ant\", \"bird\"]\n",
      "    >>> y_pred = [\"ant\", \"ant\", \"cat\", \"cat\", \"ant\", \"cat\"]\n",
      "    >>> confusion_matrix(y_true, y_pred, labels=[\"ant\", \"bird\", \"cat\"])\n",
      "    array([[2, 0, 0],\n",
      "           [0, 0, 1],\n",
      "           [1, 0, 2]])\n",
      "    \n",
      "    In the binary case, we can extract true positives, etc as follows:\n",
      "    \n",
      "    >>> tn, fp, fn, tp = confusion_matrix([0, 1, 0, 1], [1, 1, 1, 0]).ravel()\n",
      "    >>> (tn, fp, fn, tp)\n",
      "    (0, 2, 1, 1)\n",
      "\n"
     ]
    }
   ],
   "source": [
    "help(confusion_matrix)"
   ]
  },
  {
   "cell_type": "code",
   "execution_count": 35,
   "metadata": {},
   "outputs": [
    {
     "data": {
      "text/plain": [
       "array([[0, 1],\n",
       "       [1, 1]])"
      ]
     },
     "execution_count": 35,
     "metadata": {},
     "output_type": "execute_result"
    }
   ],
   "source": [
    "y_true = [\"cat\", \"ant\", \"cat\"]\n",
    "y_pred = [\"ant\", \"cat\", \"cat\"]\n",
    "confusion_matrix(y_true, y_pred, labels=[\"ant\", \"cat\"])"
   ]
  },
  {
   "cell_type": "markdown",
   "metadata": {},
   "source": [
    "### Quiz Question: How many predicted values in the test set are false positives?"
   ]
  },
  {
   "cell_type": "code",
   "execution_count": 87,
   "metadata": {
    "scrolled": true
   },
   "outputs": [
    {
     "name": "stdout",
     "output_type": "stream",
     "text": [
      "TN_test:- 2934\n",
      "FP_test:- 1860\n",
      "FN_test:- 1031\n",
      "TP_test:- 27511\n"
     ]
    }
   ],
   "source": [
    "tn, fp, fn, tp = confusion_matrix(test_data['sentiment'], prediction_test).ravel()\n",
    "print(\"TN_test:- {}\\nFP_test:- {}\\nFN_test:- {}\\nTP_test:- {}\" .format(\n",
    "tn, fp, fn, tp))"
   ]
  },
  {
   "cell_type": "raw",
   "metadata": {},
   "source": [
    "TN_test:- 2934\n",
    "FP_test:- 1860\n",
    "FN_test:- 1031\n",
    "TP_test:- 27511"
   ]
  },
  {
   "cell_type": "markdown",
   "metadata": {},
   "source": [
    "## Computing the cost of mistakes\n",
    "Put yourself in the shoes of a manufacturer that sells a baby product on Amazon.com and you want to monitor your product's reviews in order to respond to complaints. Even a few negative reviews may generate a lot of bad publicity about the product. So you don't want to miss any reviews with negative sentiments --- you'd rather put up with false alarms about potentially negative reviews instead of missing negative reviews entirely. In other words, false positives cost more than false negatives. (It may be the other way around for other scenarios, but let's stick with the manufacturer's scenario for now.)\n",
    "\n",
    "\n",
    "Suppose you know the costs involved in each kind of mistake:\n",
    "\n",
    "    $100 for each false positive.\n",
    "    $1 for each false negative.\n",
    "    Correctly classified reviews incur no cost."
   ]
  },
  {
   "cell_type": "markdown",
   "metadata": {},
   "source": [
    "### Quiz Question: Given the stipulation, what is the cost associated with the logistic regression classifier's performance on the test set?"
   ]
  },
  {
   "cell_type": "code",
   "execution_count": 37,
   "metadata": {},
   "outputs": [
    {
     "name": "stdout",
     "output_type": "stream",
     "text": [
      "Cost Incurred:- 187031\n"
     ]
    }
   ],
   "source": [
    "penalty_fp, penalty_fn = 100, 1\n",
    "cost_logistic_test = (fp*penalty_fp + fn*penalty_fn)\n",
    "print(\"Cost Incurred:- {}\" .format(cost_logistic_test))"
   ]
  },
  {
   "cell_type": "code",
   "execution_count": 38,
   "metadata": {},
   "outputs": [
    {
     "name": "stdout",
     "output_type": "stream",
     "text": [
      "Precision:- 0.940000\n",
      " Recall:- 0.960000\n"
     ]
    }
   ],
   "source": [
    "#Calculate Precision and Recall on test set\n",
    "print(\"Precision:- %f\\n Recall:- %f\" %(round(tp/(fp+tp), 2), round(tp/(tp+fn), 2)))"
   ]
  },
  {
   "cell_type": "markdown",
   "metadata": {},
   "source": [
    "### Out of all reviews in the test set that are predicted to be positive, what fraction of them are false positives? (Round to the second decimal place e.g. 0.25) "
   ]
  },
  {
   "cell_type": "code",
   "execution_count": 39,
   "metadata": {},
   "outputs": [
    {
     "name": "stdout",
     "output_type": "stream",
     "text": [
      "0.06000000000000005\n"
     ]
    }
   ],
   "source": [
    "print(1-round(tp/(fp+tp), 2))"
   ]
  },
  {
   "cell_type": "code",
   "execution_count": 40,
   "metadata": {},
   "outputs": [
    {
     "name": "stdout",
     "output_type": "stream",
     "text": [
      "0.06\n"
     ]
    }
   ],
   "source": [
    "print(round(fp/(fp+tp), 2))"
   ]
  },
  {
   "cell_type": "markdown",
   "metadata": {},
   "source": [
    "### Quiz Question: Based on what we learned in lecture, if we wanted to reduce this fraction of false positives to be below 3.5%, we would: (see quiz)"
   ]
  },
  {
   "cell_type": "code",
   "execution_count": 41,
   "metadata": {},
   "outputs": [],
   "source": [
    "#[1-round(tp/(fp+tp)] < 0.035\n",
    "\n",
    "#fp/(fp+tp) < 0.035\n"
   ]
  },
  {
   "cell_type": "markdown",
   "metadata": {},
   "source": [
    "### Quiz Question: What fraction of the positive reviews in the test_set were correctly predicted as positive by the classifier?"
   ]
  },
  {
   "cell_type": "code",
   "execution_count": 42,
   "metadata": {},
   "outputs": [
    {
     "name": "stdout",
     "output_type": "stream",
     "text": [
      "0.9638777941279518%\n"
     ]
    }
   ],
   "source": [
    "#Recall\n",
    "print(str(tp/(tp + fn))+ '%')"
   ]
  },
  {
   "cell_type": "markdown",
   "metadata": {},
   "source": [
    "### Quiz Question: What is the recall value for a classifier that predicts +1 for all data points in the test_data?"
   ]
  },
  {
   "cell_type": "code",
   "execution_count": 43,
   "metadata": {},
   "outputs": [
    {
     "name": "stdout",
     "output_type": "stream",
     "text": [
      "1\n"
     ]
    }
   ],
   "source": [
    "#Out of the positive majority class all are predicted as positive. \n",
    "#Negative reviews are also predicted as positive.There exist FP.\n",
    "#Not even a single positive is predicted as negative, 0 FN.\n",
    "print(\"%d\" %(1))"
   ]
  },
  {
   "cell_type": "markdown",
   "metadata": {},
   "source": [
    "## Precision-recall tradeoff"
   ]
  },
  {
   "cell_type": "code",
   "execution_count": 44,
   "metadata": {},
   "outputs": [],
   "source": [
    "'''\n",
    "probabilities: an SArray of probability values\n",
    "threshold: a float between 0 and 1\n",
    "'''\n",
    "def apply_threshold(probabilities, threshold):\n",
    "    predicted_class = []\n",
    "    predicted_class = list(map(lambda x:1 if(x>=threshold) else -1, probabilities))\n",
    "    return (predicted_class)\n",
    "        "
   ]
  },
  {
   "cell_type": "markdown",
   "metadata": {},
   "source": [
    "### 15. Using the model you trained, compute the class probability values P(y=+1|x,w) for the data points in the test_data. Then use thresholds set at 0.5 (default) and 0.9 to make predictions from these probability values.\n",
    "\n"
   ]
  },
  {
   "cell_type": "code",
   "execution_count": 45,
   "metadata": {},
   "outputs": [
    {
     "name": "stdout",
     "output_type": "stream",
     "text": [
      "Help on method predict_proba in module sklearn.linear_model.logistic:\n",
      "\n",
      "predict_proba(X) method of sklearn.linear_model.logistic.LogisticRegression instance\n",
      "    Probability estimates.\n",
      "    \n",
      "    The returned estimates for all classes are ordered by the\n",
      "    label of classes.\n",
      "    \n",
      "    For a multi_class problem, if multi_class is set to be \"multinomial\"\n",
      "    the softmax function is used to find the predicted probability of\n",
      "    each class.\n",
      "    Else use a one-vs-rest approach, i.e calculate the probability\n",
      "    of each class assuming it to be positive using the logistic function.\n",
      "    and normalize these values across all the classes.\n",
      "    \n",
      "    Parameters\n",
      "    ----------\n",
      "    X : array-like, shape = [n_samples, n_features]\n",
      "    \n",
      "    Returns\n",
      "    -------\n",
      "    T : array-like, shape = [n_samples, n_classes]\n",
      "        Returns the probability of the sample for each class in the model,\n",
      "        where classes are ordered as they are in ``self.classes_``.\n",
      "\n"
     ]
    }
   ],
   "source": [
    "help(model.predict_proba)"
   ]
  },
  {
   "cell_type": "code",
   "execution_count": 46,
   "metadata": {},
   "outputs": [],
   "source": [
    "#The returned estimates for all classes are ordered by the\n",
    "#label of classes.\n",
    "probabilities = model.predict_proba(test_matrix)"
   ]
  },
  {
   "cell_type": "code",
   "execution_count": 47,
   "metadata": {},
   "outputs": [
    {
     "data": {
      "text/plain": [
       "True"
      ]
     },
     "execution_count": 47,
     "metadata": {},
     "output_type": "execute_result"
    }
   ],
   "source": [
    "len(probabilities) == test_matrix.shape[0]"
   ]
  },
  {
   "cell_type": "code",
   "execution_count": 48,
   "metadata": {},
   "outputs": [
    {
     "data": {
      "text/plain": [
       "array([[0.03398046, 0.96601954],\n",
       "       [0.01235237, 0.98764763],\n",
       "       [0.01338018, 0.98661982],\n",
       "       ...,\n",
       "       [0.37759725, 0.62240275],\n",
       "       [0.00402227, 0.99597773],\n",
       "       [0.0710766 , 0.9289234 ]])"
      ]
     },
     "execution_count": 48,
     "metadata": {},
     "output_type": "execute_result"
    }
   ],
   "source": [
    "#The returned estimates for all classes are ordered by the\n",
    "#label of classes.\n",
    "probabilities"
   ]
  },
  {
   "cell_type": "markdown",
   "metadata": {},
   "source": [
    "### Quiz Question: What happens to the number of positive predicted reviews as the threshold increased from 0.5 to 0.9?"
   ]
  },
  {
   "cell_type": "code",
   "execution_count": 49,
   "metadata": {},
   "outputs": [],
   "source": [
    "def get_precision_recall(threshold, probabilities=probabilities, data=test_data):\n",
    "    #Probabilities of positive class(order [-1, 1])\n",
    "    pos_probabilities = [ele[1] for ele in probabilities]\n",
    "    predicted_class = apply_threshold(pos_probabilities, threshold)\n",
    "    tn, fp, fn, tp = confusion_matrix(data['sentiment'], \n",
    "                                  predicted_class).ravel()\n",
    "    precision, recall = (tp/(tp+fp), tp/(tp+fn))\n",
    "    return (precision, recall)"
   ]
  },
  {
   "cell_type": "code",
   "execution_count": 50,
   "metadata": {},
   "outputs": [],
   "source": [
    "#Get the predicted class based on the probabilities\n",
    "#Probabilities of positive class\n",
    "precision_th_1, recall_th_1 = get_precision_recall(0.5, probabilities)\n",
    "precision_th_2, recall_th_2 = get_precision_recall(0.9, probabilities)\n"
   ]
  },
  {
   "cell_type": "code",
   "execution_count": 51,
   "metadata": {},
   "outputs": [
    {
     "name": "stdout",
     "output_type": "stream",
     "text": [
      "Precision:- 0.94\n",
      "Recall:- 0.96\n"
     ]
    }
   ],
   "source": [
    "#positive predicted reviews threshold = 0.5\n",
    "print(\"Precision:- %.2f\\nRecall:- %.2f\" %(precision_th_1, recall_th_1))"
   ]
  },
  {
   "cell_type": "code",
   "execution_count": 52,
   "metadata": {},
   "outputs": [
    {
     "name": "stdout",
     "output_type": "stream",
     "text": [
      "Precision:- 0.98\n",
      "Recall:- 0.84\n"
     ]
    }
   ],
   "source": [
    "#positive predicted reviews threshold = 0.9\n",
    "print(\"Precision:- %.2f\\nRecall:- %.2f\" %(precision_th_2, recall_th_2))"
   ]
  },
  {
   "cell_type": "code",
   "execution_count": 53,
   "metadata": {},
   "outputs": [
    {
     "name": "stdout",
     "output_type": "stream",
     "text": [
      "TP:- 27511\n",
      "FP:- 1860\n",
      "FN:- 1031\n",
      "TN:- 2934\n",
      "Precision:- 0.94\n",
      "Recall:- 0.96\n"
     ]
    }
   ],
   "source": [
    "#Quiz Question (variant 1):\n",
    "#Does the precision increase with a higher threshold?\n",
    "pos_probabilities = [ele[1] for ele in probabilities]\n",
    "predicted_class_th_1 = apply_threshold(pos_probabilities, 0.5)\n",
    "predicted_class_th_2 = apply_threshold(pos_probabilities, 0.9)\n",
    "\n",
    "tn, fp, fn, tp = confusion_matrix(test_data['sentiment'], \n",
    "                                  predicted_class_th_1).ravel()\n",
    "\n",
    "print(\"TP:- %d\\nFP:- %d\\nFN:- %d\\nTN:- %d\" %(tp, fp, fn, tn))\n",
    "print(\"Precision:- %.2f\\nRecall:- %.2f\" %(tp/(tp+fp), tp/(tp+fn)))        "
   ]
  },
  {
   "cell_type": "code",
   "execution_count": 54,
   "metadata": {},
   "outputs": [
    {
     "name": "stdout",
     "output_type": "stream",
     "text": [
      "TP:- 23874\n",
      "FP:- 581\n",
      "FN:- 4668\n",
      "TN:- 4213\n",
      "Precision:- 0.98\n",
      "Recall:- 0.84\n"
     ]
    }
   ],
   "source": [
    "#Quiz Question (variant 2): \n",
    "#Does the recall increase with a higher threshold?\n",
    "tn, fp, fn, tp = confusion_matrix(test_data['sentiment'], \n",
    "                                  predicted_class_th_2).ravel()\n",
    "print(\"TP:- %d\\nFP:- %d\\nFN:- %d\\nTN:- %d\" %(tp, fp, fn, tn))\n",
    "print(\"Precision:- %.2f\\nRecall:- %.2f\" %(tp/(tp+fp), tp/(tp+fn)))        "
   ]
  },
  {
   "cell_type": "code",
   "execution_count": 55,
   "metadata": {},
   "outputs": [
    {
     "name": "stdout",
     "output_type": "stream",
     "text": [
      "Smaller or Equal\n"
     ]
    }
   ],
   "source": [
    "if((23874+581) > (27511+1860)):\n",
    "    print(\"Larger\")\n",
    "else:\n",
    "    print(\"Smaller or Equal\")"
   ]
  },
  {
   "cell_type": "markdown",
   "metadata": {},
   "source": [
    "## Precision-recall curve"
   ]
  },
  {
   "cell_type": "code",
   "execution_count": 56,
   "metadata": {},
   "outputs": [
    {
     "name": "stdout",
     "output_type": "stream",
     "text": [
      "[0.5        0.50505051 0.51010101 0.51515152 0.52020202 0.52525253\n",
      " 0.53030303 0.53535354 0.54040404 0.54545455 0.55050505 0.55555556\n",
      " 0.56060606 0.56565657 0.57070707 0.57575758 0.58080808 0.58585859\n",
      " 0.59090909 0.5959596  0.6010101  0.60606061 0.61111111 0.61616162\n",
      " 0.62121212 0.62626263 0.63131313 0.63636364 0.64141414 0.64646465\n",
      " 0.65151515 0.65656566 0.66161616 0.66666667 0.67171717 0.67676768\n",
      " 0.68181818 0.68686869 0.69191919 0.6969697  0.7020202  0.70707071\n",
      " 0.71212121 0.71717172 0.72222222 0.72727273 0.73232323 0.73737374\n",
      " 0.74242424 0.74747475 0.75252525 0.75757576 0.76262626 0.76767677\n",
      " 0.77272727 0.77777778 0.78282828 0.78787879 0.79292929 0.7979798\n",
      " 0.8030303  0.80808081 0.81313131 0.81818182 0.82323232 0.82828283\n",
      " 0.83333333 0.83838384 0.84343434 0.84848485 0.85353535 0.85858586\n",
      " 0.86363636 0.86868687 0.87373737 0.87878788 0.88383838 0.88888889\n",
      " 0.89393939 0.8989899  0.9040404  0.90909091 0.91414141 0.91919192\n",
      " 0.92424242 0.92929293 0.93434343 0.93939394 0.94444444 0.94949495\n",
      " 0.95454545 0.95959596 0.96464646 0.96969697 0.97474747 0.97979798\n",
      " 0.98484848 0.98989899 0.99494949 1.        ]\n"
     ]
    }
   ],
   "source": [
    "threshold_values = np.linspace(0.5, 1, num=100)\n",
    "print (threshold_values)"
   ]
  },
  {
   "cell_type": "code",
   "execution_count": 57,
   "metadata": {},
   "outputs": [],
   "source": [
    "precision_all, recall_all = [], []\n",
    "#Probabilities are already predicted using model.predict_proba()\n",
    "\n",
    "for thresh in threshold_values:\n",
    "    precision_all.append(get_precision_recall(thresh)[0])\n",
    "    recall_all.append(get_precision_recall(thresh)[1])\n"
   ]
  },
  {
   "cell_type": "code",
   "execution_count": 58,
   "metadata": {
    "scrolled": true
   },
   "outputs": [
    {
     "data": {
      "text/plain": [
       "[0.9366722277076027,\n",
       " 0.937184730743013,\n",
       " 0.9374744167007777,\n",
       " 0.937997200314111,\n",
       " 0.9384121125123893,\n",
       " 0.9389626385657589,\n",
       " 0.9395828338527931,\n",
       " 0.9400912177223003,\n",
       " 0.9406069761054655,\n",
       " 0.9412068076328004,\n",
       " 0.9416015692212395,\n",
       " 0.9420559459831886,\n",
       " 0.9425683832913663,\n",
       " 0.9429883628578335,\n",
       " 0.9435436473638721,\n",
       " 0.9440443213296399,\n",
       " 0.944587003259588,\n",
       " 0.9451175061616968,\n",
       " 0.9454425409180943,\n",
       " 0.9459130434782609,\n",
       " 0.946611409068747,\n",
       " 0.9470729751403368,\n",
       " 0.9477525931617364,\n",
       " 0.9479938487347966,\n",
       " 0.9483428411437371,\n",
       " 0.9488347643245137,\n",
       " 0.9492018944044904,\n",
       " 0.9495680269719744,\n",
       " 0.9499314370099504,\n",
       " 0.9502270407265303,\n",
       " 0.9507965599887213,\n",
       " 0.9516766678432756,\n",
       " 0.9519652198501343,\n",
       " 0.95236747115861,\n",
       " 0.9527335860822733,\n",
       " 0.9532053783659133,\n",
       " 0.9536296770067157,\n",
       " 0.9539972248905967,\n",
       " 0.9543333452071385,\n",
       " 0.9551279762967194,\n",
       " 0.9554752878907088,\n",
       " 0.9559113212277497,\n",
       " 0.9562674894166607,\n",
       " 0.9566920644048303,\n",
       " 0.9574812788018433,\n",
       " 0.9581529581529582,\n",
       " 0.958648111332008,\n",
       " 0.958908077187647,\n",
       " 0.9593065428695778,\n",
       " 0.9596264263391234,\n",
       " 0.9599781500364166,\n",
       " 0.9604307355356817,\n",
       " 0.9608954896294399,\n",
       " 0.9615032080659945,\n",
       " 0.9618253297571371,\n",
       " 0.962198806278093,\n",
       " 0.9624815361890694,\n",
       " 0.9628423390081421,\n",
       " 0.9633163776779415,\n",
       " 0.9637473480477909,\n",
       " 0.9642657316572792,\n",
       " 0.964587540198938,\n",
       " 0.9652108716026242,\n",
       " 0.9655522545222067,\n",
       " 0.9664556722131675,\n",
       " 0.9672386895475819,\n",
       " 0.9678219711428353,\n",
       " 0.9684242795830779,\n",
       " 0.9694964803631189,\n",
       " 0.970107751129649,\n",
       " 0.9707228168140221,\n",
       " 0.9711059190031153,\n",
       " 0.9718784270719097,\n",
       " 0.9724626278520849,\n",
       " 0.9731397602753273,\n",
       " 0.9737176938369781,\n",
       " 0.9742820574354052,\n",
       " 0.9746901657814261,\n",
       " 0.9752056070980026,\n",
       " 0.976036903984324,\n",
       " 0.9765088246184227,\n",
       " 0.9770191230762849,\n",
       " 0.9776569037656904,\n",
       " 0.9784215193615134,\n",
       " 0.9794882729211087,\n",
       " 0.9801173121711377,\n",
       " 0.9806868828104518,\n",
       " 0.9814486850261224,\n",
       " 0.9821147710421066,\n",
       " 0.9828508711757443,\n",
       " 0.9837827732859746,\n",
       " 0.9847097732828453,\n",
       " 0.9853752215875518,\n",
       " 0.9862943903805982,\n",
       " 0.9871589940323956,\n",
       " 0.988431151241535,\n",
       " 0.9891104857457482,\n",
       " 0.9904051908607717,\n",
       " 0.9930362116991643,\n",
       " 1.0]"
      ]
     },
     "execution_count": 58,
     "metadata": {},
     "output_type": "execute_result"
    }
   ],
   "source": [
    "precision_all_test = [get_precision_recall(thresh)[0]\n",
    "                      for thresh in threshold_values]\n",
    "precision_all_test"
   ]
  },
  {
   "cell_type": "code",
   "execution_count": 59,
   "metadata": {},
   "outputs": [
    {
     "data": {
      "text/plain": [
       "True"
      ]
     },
     "execution_count": 59,
     "metadata": {},
     "output_type": "execute_result"
    }
   ],
   "source": [
    "(set(precision_all).difference(set(precision_all_test)) == set()) and \\\n",
    "(set(precision_all_test).difference(set(precision_all)) == set())"
   ]
  },
  {
   "cell_type": "code",
   "execution_count": 60,
   "metadata": {
    "scrolled": true
   },
   "outputs": [
    {
     "data": {
      "text/plain": [
       "[0.9638777941279518,\n",
       " 0.9633872889075749,\n",
       " 0.9628967836871978,\n",
       " 0.9625464228155,\n",
       " 0.9619858454207834,\n",
       " 0.9615303762875762,\n",
       " 0.9611449793287086,\n",
       " 0.9604792936724826,\n",
       " 0.9599187162777661,\n",
       " 0.9591128862728611,\n",
       " 0.9586574171396538,\n",
       " 0.9580968397449373,\n",
       " 0.9573961180015416,\n",
       " 0.9567654684324854,\n",
       " 0.956204891037769,\n",
       " 0.9552238805970149,\n",
       " 0.9543830145049401,\n",
       " 0.9538925092845632,\n",
       " 0.9532268236283372,\n",
       " 0.9528063905822998,\n",
       " 0.9523158853619228,\n",
       " 0.9516852357928667,\n",
       " 0.9507742975264523,\n",
       " 0.950318828393245,\n",
       " 0.9493728540396609,\n",
       " 0.9486020601219256,\n",
       " 0.9479714105528695,\n",
       " 0.9473057248966436,\n",
       " 0.9465699670660781,\n",
       " 0.9457991731483428,\n",
       " 0.9451334874921169,\n",
       " 0.9446079461845701,\n",
       " 0.9436269357438162,\n",
       " 0.9428911779132506,\n",
       " 0.9420853479083456,\n",
       " 0.9413495900777801,\n",
       " 0.9402985074626866,\n",
       " 0.9394576413706117,\n",
       " 0.9386518113657066,\n",
       " 0.9374255483147642,\n",
       " 0.9360591409151426,\n",
       " 0.9351131665615584,\n",
       " 0.933886903510616,\n",
       " 0.9326256043725036,\n",
       " 0.9317847382804288,\n",
       " 0.9305584752294864,\n",
       " 0.9291920678298647,\n",
       " 0.9279658047789223,\n",
       " 0.9267045056408101,\n",
       " 0.9251979538925093,\n",
       " 0.9235862938826992,\n",
       " 0.92183448952421,\n",
       " 0.9203279377759092,\n",
       " 0.9188213860276084,\n",
       " 0.9171746899306286,\n",
       " 0.9150024525261019,\n",
       " 0.9131805759932731,\n",
       " 0.9114988438091234,\n",
       " 0.9090112816200687,\n",
       " 0.9071894050872399,\n",
       " 0.9057178894261089,\n",
       " 0.903755868544601,\n",
       " 0.9020741363604513,\n",
       " 0.8995515380842267,\n",
       " 0.8933501506551749,\n",
       " 0.8906173358559316,\n",
       " 0.8883399901898956,\n",
       " 0.8854319949548034,\n",
       " 0.8830495410272581,\n",
       " 0.8800714736178263,\n",
       " 0.8770583701212249,\n",
       " 0.8737299418400953,\n",
       " 0.869385467031042,\n",
       " 0.8660920748370822,\n",
       " 0.861887744376708,\n",
       " 0.8579987387008619,\n",
       " 0.8534440473687899,\n",
       " 0.8486791395136991,\n",
       " 0.8433536542638919,\n",
       " 0.8376778081423867,\n",
       " 0.8316165650620139,\n",
       " 0.8252049611099432,\n",
       " 0.8186532128091935,\n",
       " 0.8117861397239157,\n",
       " 0.8047438862027889,\n",
       " 0.7961950809333613,\n",
       " 0.7863499404386518,\n",
       " 0.7766449442926214,\n",
       " 0.7657136850956485,\n",
       " 0.7529955854530166,\n",
       " 0.7375096349239717,\n",
       " 0.7197813748160605,\n",
       " 0.7011071403545652,\n",
       " 0.6782285754326957,\n",
       " 0.6491135869946044,\n",
       " 0.6136570667787822,\n",
       " 0.566463457361082,\n",
       " 0.5026977787120734,\n",
       " 0.39969168243290587,\n",
       " 0.00028028869735827904]"
      ]
     },
     "execution_count": 60,
     "metadata": {},
     "output_type": "execute_result"
    }
   ],
   "source": [
    "recall_all"
   ]
  },
  {
   "cell_type": "code",
   "execution_count": 61,
   "metadata": {},
   "outputs": [],
   "source": [
    "def plot_pr_curve(precision, recall, title):\n",
    "    plt.rcParams['figure.figsize'] = 7, 5\n",
    "    plt.locator_params(axis = 'x', nbins = 5)\n",
    "    plt.plot(precision, recall, 'b-', linewidth=4.0, color = '#B0017F')\n",
    "    plt.title(title)\n",
    "    plt.xlabel('Precision')\n",
    "    plt.ylabel('Recall')\n",
    "    plt.rcParams.update({'font.size': 16})\n",
    "    plt.show()"
   ]
  },
  {
   "cell_type": "code",
   "execution_count": 62,
   "metadata": {},
   "outputs": [
    {
     "data": {
      "image/png": "[encoded data removed]",
      "text/plain": [
       "<Figure size 504x360 with 1 Axes>"
      ]
     },
     "metadata": {},
     "output_type": "display_data"
    }
   ],
   "source": [
    "plot_pr_curve(precision_all, recall_all, 'Precision recall curve (all)')"
   ]
  },
  {
   "cell_type": "markdown",
   "metadata": {},
   "source": [
    "### Quiz Question: Among all the threshold values tried, what is the smallest threshold value that achieves a precision of 96.5% or better? Round your answer to 3 decimal places.\n"
   ]
  },
  {
   "cell_type": "code",
   "execution_count": 63,
   "metadata": {},
   "outputs": [
    {
     "data": {
      "text/html": [
       "<div>\n",
       "<style scoped>\n",
       "    .dataframe tbody tr th:only-of-type {\n",
       "        vertical-align: middle;\n",
       "    }\n",
       "\n",
       "    .dataframe tbody tr th {\n",
       "        vertical-align: top;\n",
       "    }\n",
       "\n",
       "    .dataframe thead th {\n",
       "        text-align: right;\n",
       "    }\n",
       "</style>\n",
       "<table border=\"1\" class=\"dataframe\">\n",
       "  <thead>\n",
       "    <tr style=\"text-align: right;\">\n",
       "      <th></th>\n",
       "      <th>Precision</th>\n",
       "      <th>Threshold</th>\n",
       "    </tr>\n",
       "  </thead>\n",
       "  <tbody>\n",
       "    <tr>\n",
       "      <th>62</th>\n",
       "      <td>0.965211</td>\n",
       "      <td>0.813131</td>\n",
       "    </tr>\n",
       "    <tr>\n",
       "      <th>63</th>\n",
       "      <td>0.965552</td>\n",
       "      <td>0.818182</td>\n",
       "    </tr>\n",
       "    <tr>\n",
       "      <th>64</th>\n",
       "      <td>0.966456</td>\n",
       "      <td>0.823232</td>\n",
       "    </tr>\n",
       "    <tr>\n",
       "      <th>65</th>\n",
       "      <td>0.967239</td>\n",
       "      <td>0.828283</td>\n",
       "    </tr>\n",
       "    <tr>\n",
       "      <th>66</th>\n",
       "      <td>0.967822</td>\n",
       "      <td>0.833333</td>\n",
       "    </tr>\n",
       "  </tbody>\n",
       "</table>\n",
       "</div>"
      ],
      "text/plain": [
       "    Precision  Threshold\n",
       "62   0.965211   0.813131\n",
       "63   0.965552   0.818182\n",
       "64   0.966456   0.823232\n",
       "65   0.967239   0.828283\n",
       "66   0.967822   0.833333"
      ]
     },
     "execution_count": 63,
     "metadata": {},
     "output_type": "execute_result"
    }
   ],
   "source": [
    "base_precision = 0.965\n",
    "precision_df = pd.DataFrame({'Precision':precision_all, \n",
    "                             'Threshold':threshold_values},\n",
    "                              columns = ['Precision', 'Threshold'])\n",
    "#Select the rows having precision >= 96.5%\n",
    "precision_df.loc[precision_df['Precision']>= base_precision, :].sort_values(\n",
    "                                                by = 'Threshold', \n",
    "                                                ascending = True).head()\n"
   ]
  },
  {
   "cell_type": "code",
   "execution_count": 85,
   "metadata": {},
   "outputs": [
    {
     "data": {
      "text/plain": [
       "0.8131313131313131"
      ]
     },
     "execution_count": 85,
     "metadata": {},
     "output_type": "execute_result"
    }
   ],
   "source": [
    "min(precision_df.loc[precision_df['Precision']>= base_precision, 'Threshold'])"
   ]
  },
  {
   "cell_type": "raw",
   "metadata": {},
   "source": [
    " \tPrecision \tThreshold\n",
    "62 \t0.965211 \t0.813131\n",
    "63 \t0.965552 \t0.818182\n",
    "64 \t0.966456 \t0.823232\n",
    "65 \t0.967239 \t0.828283\n",
    "66 \t0.967822 \t0.833333\n"
   ]
  },
  {
   "cell_type": "code",
   "execution_count": 88,
   "metadata": {},
   "outputs": [
    {
     "data": {
      "text/html": [
       "<div>\n",
       "<style scoped>\n",
       "    .dataframe tbody tr th:only-of-type {\n",
       "        vertical-align: middle;\n",
       "    }\n",
       "\n",
       "    .dataframe tbody tr th {\n",
       "        vertical-align: top;\n",
       "    }\n",
       "\n",
       "    .dataframe thead th {\n",
       "        text-align: right;\n",
       "    }\n",
       "</style>\n",
       "<table border=\"1\" class=\"dataframe\">\n",
       "  <thead>\n",
       "    <tr style=\"text-align: right;\">\n",
       "      <th></th>\n",
       "      <th>Precision</th>\n",
       "      <th>Threshold</th>\n",
       "    </tr>\n",
       "  </thead>\n",
       "  <tbody>\n",
       "    <tr>\n",
       "      <th>95</th>\n",
       "      <td>0.988431</td>\n",
       "      <td>0.979798</td>\n",
       "    </tr>\n",
       "    <tr>\n",
       "      <th>96</th>\n",
       "      <td>0.989110</td>\n",
       "      <td>0.984848</td>\n",
       "    </tr>\n",
       "    <tr>\n",
       "      <th>97</th>\n",
       "      <td>0.990405</td>\n",
       "      <td>0.989899</td>\n",
       "    </tr>\n",
       "    <tr>\n",
       "      <th>98</th>\n",
       "      <td>0.993036</td>\n",
       "      <td>0.994949</td>\n",
       "    </tr>\n",
       "    <tr>\n",
       "      <th>99</th>\n",
       "      <td>1.000000</td>\n",
       "      <td>1.000000</td>\n",
       "    </tr>\n",
       "  </tbody>\n",
       "</table>\n",
       "</div>"
      ],
      "text/plain": [
       "    Precision  Threshold\n",
       "95   0.988431   0.979798\n",
       "96   0.989110   0.984848\n",
       "97   0.990405   0.989899\n",
       "98   0.993036   0.994949\n",
       "99   1.000000   1.000000"
      ]
     },
     "execution_count": 88,
     "metadata": {},
     "output_type": "execute_result"
    }
   ],
   "source": [
    "precision_df.loc[precision_df['Precision']>= 0.965, :].tail()"
   ]
  },
  {
   "cell_type": "code",
   "execution_count": 65,
   "metadata": {},
   "outputs": [
    {
     "name": "stdout",
     "output_type": "stream",
     "text": [
      "0.813\n"
     ]
    }
   ],
   "source": [
    "print(round(0.813131, 3))"
   ]
  },
  {
   "cell_type": "markdown",
   "metadata": {},
   "source": [
    "### Quiz Question: Using threshold = 0.98, how many false negatives do we get on the test_data? This is the number of false negatives (i.e the number of reviews to look at when not needed) that we have to deal with using this classifier."
   ]
  },
  {
   "cell_type": "code",
   "execution_count": 66,
   "metadata": {},
   "outputs": [
    {
     "name": "stdout",
     "output_type": "stream",
     "text": [
      "TP:- 17478\n",
      "FP:- 205\n",
      "FN:- 11064\n",
      "TN:- 4589\n"
     ]
    }
   ],
   "source": [
    "#Probabilities of positive class(order [-1, 1])\n",
    "pos_probabilities = [ele[1] for ele in probabilities]\n",
    "predicted_class = apply_threshold(pos_probabilities, threshold=0.98)\n",
    "tn, fp, fn, tp = confusion_matrix(test_data['sentiment'], \n",
    "                                  predicted_class).ravel()\n",
    "print(\"TP:- %d\\nFP:- %d\\nFN:- %d\\nTN:- %d\" %(tp, fp, fn, tn))\n",
    "precision, recall = (tp/(tp+fp), tp/(tp+fn))"
   ]
  },
  {
   "cell_type": "code",
   "execution_count": 89,
   "metadata": {},
   "outputs": [
    {
     "data": {
      "text/plain": [
       "array([[ 4589,   205],\n",
       "       [11064, 17478]])"
      ]
     },
     "execution_count": 89,
     "metadata": {},
     "output_type": "execute_result"
    }
   ],
   "source": [
    "confusion_matrix(test_data['sentiment'], \n",
    "                                  predicted_class)"
   ]
  },
  {
   "cell_type": "markdown",
   "metadata": {},
   "source": [
    "### Evaluating specific search terms\n",
    "\n",
    "So far, we looked at the number of false positives for the entire test set. In this section, let's select reviews using a specific search term and optimize the precision on these reviews only. After all, a manufacturer would be interested in tuning the false positive rate just for their products (the reviews they want to read) rather than that of the entire set of products on Amazon.\n"
   ]
  },
  {
   "cell_type": "code",
   "execution_count": 67,
   "metadata": {},
   "outputs": [
    {
     "data": {
      "text/plain": [
       "Index(['name', 'review', 'rating', 'review_clean', 'sentiment'], dtype='object')"
      ]
     },
     "execution_count": 67,
     "metadata": {},
     "output_type": "execute_result"
    }
   ],
   "source": [
    "test_data.columns"
   ]
  },
  {
   "cell_type": "code",
   "execution_count": 68,
   "metadata": {
    "scrolled": true
   },
   "outputs": [
    {
     "data": {
      "text/plain": [
       "8         Baby Tracker&reg; - Daily Childcare Journal, S...\n",
       "9         Baby Tracker&reg; - Daily Childcare Journal, S...\n",
       "14          Nature\\'s Lullabies First Year Sticker Calendar\n",
       "18         Nature\\'s Lullabies Second Year Sticker Calendar\n",
       "24         Nature\\'s Lullabies Second Year Sticker Calendar\n",
       "31                              Lamaze Peekaboo, I Love You\n",
       "32                              Lamaze Peekaboo, I Love You\n",
       "36                              Lamaze Peekaboo, I Love You\n",
       "38             SoftPlay Twinkle Twinkle Elmo A Bedtime Book\n",
       "50                                SoftPlay Cloth Book, Love\n",
       "53        SoftPlay Baby Animals of the World Soft Cloth ...\n",
       "64                                Our Baby Girl Memory Book\n",
       "82        Cloth Diaper Pins Stainless Steel Traditional ...\n",
       "102       Newborn Baby Tracker&reg; - Round the Clock Ch...\n",
       "105       Newborn Baby Tracker&reg; - Round the Clock Ch...\n",
       "106       Newborn Baby Tracker&reg; - Round the Clock Ch...\n",
       "109       Newborn Baby Tracker&reg; - Round the Clock Ch...\n",
       "112       Newborn Baby Tracker&reg; - Round the Clock Ch...\n",
       "117       Edu-Petit Teddy Bobo\\'s Big Learning Book Deve...\n",
       "123       Modern House Safari Animal Family removable Vi...\n",
       "126       Neurosmith - Music Blocks with Mozart Music Ca...\n",
       "132       Neurosmith - Music Blocks with Mozart Music Ca...\n",
       "134       Neurosmith - Music Blocks with Mozart Music Ca...\n",
       "142           my first fish bowl by lamaze / learning curve\n",
       "143           my first fish bowl by lamaze / learning curve\n",
       "145           my first fish bowl by lamaze / learning curve\n",
       "149                                      Pedal Farm Tractor\n",
       "156                    Fisher Price Nesting Action Vehicles\n",
       "162                    Fisher Price Nesting Action Vehicles\n",
       "165                    Fisher Price Nesting Action Vehicles\n",
       "                                ...                        \n",
       "166596           UPPAbaby MESA Infant Car Seat, Drew Orange\n",
       "166601                         Boon Orb Bottle Warmer,Green\n",
       "166608                         Boon Orb Bottle Warmer,Green\n",
       "166618    Bright Starts 2-in-1 Convert Me Activity Table...\n",
       "166623    Bright Starts 2-in-1 Convert Me Activity Table...\n",
       "166627                  Summer Infant Lil\\' Loo Potty, Pink\n",
       "166633                  Summer Infant Lil\\' Loo Potty, Pink\n",
       "166634                  Summer Infant Lil\\' Loo Potty, Pink\n",
       "166635                  Summer Infant Lil\\' Loo Potty, Pink\n",
       "166643                  Summer Infant Lil\\' Loo Potty, Pink\n",
       "166644                  Summer Infant Lil\\' Loo Potty, Pink\n",
       "166647                  Summer Infant Lil\\' Loo Potty, Pink\n",
       "166661                  Summer Infant Lil\\' Loo Potty, Pink\n",
       "166663                  Summer Infant Lil\\' Loo Potty, Pink\n",
       "166674                  Summer Infant Lil\\' Loo Potty, Pink\n",
       "166683                  Summer Infant Lil\\' Loo Potty, Pink\n",
       "166686                  Summer Infant Lil\\' Loo Potty, Pink\n",
       "166687                  Summer Infant Lil\\' Loo Potty, Pink\n",
       "166688                  Summer Infant Lil\\' Loo Potty, Pink\n",
       "166692              Summer Infant 3-in-1 Potty, Hippo Tales\n",
       "166694              Summer Infant 3-in-1 Potty, Hippo Tales\n",
       "166698    Via Velo Montalban 3 Bike Trailer with Jogger Kit\n",
       "166706    Hooded HELLO KITTY Fleece Throw! Pink White Bo...\n",
       "166710    Aden+Anais Bamboo Burpy Bib Tranquility 2 Pack...\n",
       "166722    Taf Toys Flexi Arch. Baby Stroller and Pram Ac...\n",
       "166730    Soothetime Stroller Wrap Weather Shield for St...\n",
       "166737    36&quot; x 36&quot; Pack and Play Yard Replace...\n",
       "166743         Mud Pie Ornament with Personalization, Santa\n",
       "166745      Mud Pie Ornament with Personalization, Reindeer\n",
       "166751    The FAN&quot;STACHE&quot;TIC Bib by Dapper Jac...\n",
       "Name: name, Length: 33336, dtype: object"
      ]
     },
     "execution_count": 68,
     "metadata": {},
     "output_type": "execute_result"
    }
   ],
   "source": [
    "test_data['name']"
   ]
  },
  {
   "cell_type": "code",
   "execution_count": 69,
   "metadata": {},
   "outputs": [
    {
     "name": "stderr",
     "output_type": "stream",
     "text": [
      "/home/shrikrishna/anaconda3/lib/python3.6/site-packages/ipykernel_launcher.py:3: SettingWithCopyWarning: \n",
      "A value is trying to be set on a copy of a slice from a DataFrame.\n",
      "Try using .loc[row_indexer,col_indexer] = value instead\n",
      "\n",
      "See the caveats in the documentation: http://pandas.pydata.org/pandas-docs/stable/indexing.html#indexing-view-versus-copy\n",
      "  This is separate from the ipykernel package so we can avoid doing imports until\n"
     ]
    }
   ],
   "source": [
    "temp_lower_reviews = list(map(lambda x: x.lower(), test_data['review_clean']))\n",
    "temp_baby = test_data\n",
    "temp_baby['review_clean'] = temp_lower_reviews"
   ]
  },
  {
   "cell_type": "code",
   "execution_count": 70,
   "metadata": {},
   "outputs": [],
   "source": [
    "baby_reviews = test_data.loc[test_data['name'].apply(lambda x: 'baby' in str(x) or 'Baby' in str(x))]\n"
   ]
  },
  {
   "cell_type": "code",
   "execution_count": 71,
   "metadata": {},
   "outputs": [],
   "source": [
    "#'baby' in x.lower()\n",
    "baby_reviews_tlower = test_data[test_data['name'].apply(\n",
    "                            lambda x: 'baby' in str(x))]\n",
    "baby_reviews_tCamel = test_data[test_data['name'].apply(\n",
    "                            lambda x: 'Baby' in str(x))]"
   ]
  },
  {
   "cell_type": "code",
   "execution_count": 72,
   "metadata": {},
   "outputs": [
    {
     "data": {
      "text/plain": [
       "False"
      ]
     },
     "execution_count": 72,
     "metadata": {},
     "output_type": "execute_result"
    }
   ],
   "source": [
    "baby_reviews_tlower.shape[0] + baby_reviews_tCamel.shape[0] == baby_reviews.shape[0]"
   ]
  },
  {
   "cell_type": "code",
   "execution_count": 73,
   "metadata": {},
   "outputs": [
    {
     "name": "stdout",
     "output_type": "stream",
     "text": [
      "(554, 5)\n"
     ]
    }
   ],
   "source": [
    "print(baby_reviews_tlower.shape)"
   ]
  },
  {
   "cell_type": "code",
   "execution_count": 74,
   "metadata": {},
   "outputs": [
    {
     "name": "stdout",
     "output_type": "stream",
     "text": [
      "(5643, 5)\n"
     ]
    }
   ],
   "source": [
    "print(baby_reviews_tCamel.shape)"
   ]
  },
  {
   "cell_type": "code",
   "execution_count": 75,
   "metadata": {},
   "outputs": [
    {
     "data": {
      "text/plain": [
       "6197"
      ]
     },
     "execution_count": 75,
     "metadata": {},
     "output_type": "execute_result"
    }
   ],
   "source": [
    "6197"
   ]
  },
  {
   "cell_type": "code",
   "execution_count": 76,
   "metadata": {},
   "outputs": [
    {
     "data": {
      "text/plain": [
       "(6123, 5)"
      ]
     },
     "execution_count": 76,
     "metadata": {},
     "output_type": "execute_result"
    }
   ],
   "source": [
    "baby_reviews.shape"
   ]
  },
  {
   "cell_type": "code",
   "execution_count": 77,
   "metadata": {},
   "outputs": [
    {
     "data": {
      "text/html": [
       "<div>\n",
       "<style scoped>\n",
       "    .dataframe tbody tr th:only-of-type {\n",
       "        vertical-align: middle;\n",
       "    }\n",
       "\n",
       "    .dataframe tbody tr th {\n",
       "        vertical-align: top;\n",
       "    }\n",
       "\n",
       "    .dataframe thead th {\n",
       "        text-align: right;\n",
       "    }\n",
       "</style>\n",
       "<table border=\"1\" class=\"dataframe\">\n",
       "  <thead>\n",
       "    <tr style=\"text-align: right;\">\n",
       "      <th></th>\n",
       "      <th>name</th>\n",
       "      <th>review</th>\n",
       "      <th>rating</th>\n",
       "      <th>review_clean</th>\n",
       "      <th>sentiment</th>\n",
       "    </tr>\n",
       "  </thead>\n",
       "  <tbody>\n",
       "    <tr>\n",
       "      <th>8</th>\n",
       "      <td>Baby Tracker&amp;reg; - Daily Childcare Journal, S...</td>\n",
       "      <td>A friend of mine pinned this product on Pinter...</td>\n",
       "      <td>5</td>\n",
       "      <td>a friend of mine pinned this product on pinter...</td>\n",
       "      <td>1</td>\n",
       "    </tr>\n",
       "    <tr>\n",
       "      <th>9</th>\n",
       "      <td>Baby Tracker&amp;reg; - Daily Childcare Journal, S...</td>\n",
       "      <td>This has been an easy way for my nanny to reco...</td>\n",
       "      <td>4</td>\n",
       "      <td>this has been an easy way for my nanny to reco...</td>\n",
       "      <td>1</td>\n",
       "    </tr>\n",
       "    <tr>\n",
       "      <th>53</th>\n",
       "      <td>SoftPlay Baby Animals of the World Soft Cloth ...</td>\n",
       "      <td>not bad but not as interesting to my 1-year ol...</td>\n",
       "      <td>3</td>\n",
       "      <td>not bad but not as interesting to my 1year old...</td>\n",
       "      <td>1</td>\n",
       "    </tr>\n",
       "    <tr>\n",
       "      <th>64</th>\n",
       "      <td>Our Baby Girl Memory Book</td>\n",
       "      <td>Really happy with this purchase. I was looking...</td>\n",
       "      <td>5</td>\n",
       "      <td>really happy with this purchase i was looking ...</td>\n",
       "      <td>1</td>\n",
       "    </tr>\n",
       "    <tr>\n",
       "      <th>102</th>\n",
       "      <td>Newborn Baby Tracker&amp;reg; - Round the Clock Ch...</td>\n",
       "      <td>Love it love it love it!!  Got my first baby t...</td>\n",
       "      <td>5</td>\n",
       "      <td>love it love it love it  got my first baby tra...</td>\n",
       "      <td>1</td>\n",
       "    </tr>\n",
       "  </tbody>\n",
       "</table>\n",
       "</div>"
      ],
      "text/plain": [
       "                                                  name  \\\n",
       "8    Baby Tracker&reg; - Daily Childcare Journal, S...   \n",
       "9    Baby Tracker&reg; - Daily Childcare Journal, S...   \n",
       "53   SoftPlay Baby Animals of the World Soft Cloth ...   \n",
       "64                           Our Baby Girl Memory Book   \n",
       "102  Newborn Baby Tracker&reg; - Round the Clock Ch...   \n",
       "\n",
       "                                                review  rating  \\\n",
       "8    A friend of mine pinned this product on Pinter...       5   \n",
       "9    This has been an easy way for my nanny to reco...       4   \n",
       "53   not bad but not as interesting to my 1-year ol...       3   \n",
       "64   Really happy with this purchase. I was looking...       5   \n",
       "102  Love it love it love it!!  Got my first baby t...       5   \n",
       "\n",
       "                                          review_clean  sentiment  \n",
       "8    a friend of mine pinned this product on pinter...          1  \n",
       "9    this has been an easy way for my nanny to reco...          1  \n",
       "53   not bad but not as interesting to my 1year old...          1  \n",
       "64   really happy with this purchase i was looking ...          1  \n",
       "102  love it love it love it  got my first baby tra...          1  "
      ]
     },
     "execution_count": 77,
     "metadata": {},
     "output_type": "execute_result"
    }
   ],
   "source": [
    "baby_reviews.head()"
   ]
  },
  {
   "cell_type": "markdown",
   "metadata": {},
   "source": [
    "### 21. Now, let's predict the probability of classifying these reviews as positive. Make sure to convert the column review_clean of baby_reviews into a 2D array before computing class probability values. In scikit-learn, this task would be implemented as follows"
   ]
  },
  {
   "cell_type": "code",
   "execution_count": 78,
   "metadata": {},
   "outputs": [],
   "source": [
    "baby_matrix = vectorizer.transform(baby_reviews['review_clean'])\n",
    "baby_pos_probabilities = model.predict_proba(baby_matrix)"
   ]
  },
  {
   "cell_type": "markdown",
   "metadata": {},
   "source": [
    "### 22. Let's plot the precision-recall curve for the baby_reviews dataset. We again use 100 equally spaced values between 0.5 and 1 for the threshold."
   ]
  },
  {
   "cell_type": "code",
   "execution_count": 79,
   "metadata": {},
   "outputs": [],
   "source": [
    "threshold_values = np.linspace(0.5, 1, num=100)"
   ]
  },
  {
   "cell_type": "code",
   "execution_count": 80,
   "metadata": {},
   "outputs": [],
   "source": [
    "precision_baby_all, recall_baby_all = [], []\n",
    "#Probabilities are already predicted using model.predict_proba()\n",
    "\n",
    "for thresh in threshold_values:\n",
    "    precision_baby_all.append(get_precision_recall(thresh, baby_pos_probabilities, baby_reviews)[0])\n",
    "    recall_baby_all.append(get_precision_recall(thresh, baby_pos_probabilities, baby_reviews)[1])\n"
   ]
  },
  {
   "cell_type": "code",
   "execution_count": 81,
   "metadata": {},
   "outputs": [
    {
     "data": {
      "text/html": [
       "<div>\n",
       "<style scoped>\n",
       "    .dataframe tbody tr th:only-of-type {\n",
       "        vertical-align: middle;\n",
       "    }\n",
       "\n",
       "    .dataframe tbody tr th {\n",
       "        vertical-align: top;\n",
       "    }\n",
       "\n",
       "    .dataframe thead th {\n",
       "        text-align: right;\n",
       "    }\n",
       "</style>\n",
       "<table border=\"1\" class=\"dataframe\">\n",
       "  <thead>\n",
       "    <tr style=\"text-align: right;\">\n",
       "      <th></th>\n",
       "      <th>Precision</th>\n",
       "      <th>Threshold</th>\n",
       "    </tr>\n",
       "  </thead>\n",
       "  <tbody>\n",
       "    <tr>\n",
       "      <th>64</th>\n",
       "      <td>0.965928</td>\n",
       "      <td>0.823232</td>\n",
       "    </tr>\n",
       "    <tr>\n",
       "      <th>65</th>\n",
       "      <td>0.966450</td>\n",
       "      <td>0.828283</td>\n",
       "    </tr>\n",
       "    <tr>\n",
       "      <th>66</th>\n",
       "      <td>0.966540</td>\n",
       "      <td>0.833333</td>\n",
       "    </tr>\n",
       "    <tr>\n",
       "      <th>67</th>\n",
       "      <td>0.967196</td>\n",
       "      <td>0.838384</td>\n",
       "    </tr>\n",
       "    <tr>\n",
       "      <th>68</th>\n",
       "      <td>0.968531</td>\n",
       "      <td>0.843434</td>\n",
       "    </tr>\n",
       "  </tbody>\n",
       "</table>\n",
       "</div>"
      ],
      "text/plain": [
       "    Precision  Threshold\n",
       "64   0.965928   0.823232\n",
       "65   0.966450   0.828283\n",
       "66   0.966540   0.833333\n",
       "67   0.967196   0.838384\n",
       "68   0.968531   0.843434"
      ]
     },
     "execution_count": 81,
     "metadata": {},
     "output_type": "execute_result"
    }
   ],
   "source": [
    "#Quiz Question: Among all the threshold values tried, \n",
    "#what is the smallest threshold value that achieves a \n",
    "#precision of 96.5% or better for the reviews of data\n",
    "#in baby_reviews? Round your answer to 3 decimal places.\n",
    "\n",
    "base_precision = 0.965\n",
    "precision_baby_df = pd.DataFrame({'Precision':precision_baby_all, \n",
    "                             'Threshold':threshold_values},\n",
    "                              columns = ['Precision', 'Threshold'])\n",
    "#Select the rows having precision >= 96.5%\n",
    "precision_baby_df.loc[precision_baby_df['Precision']>= 0.965, :].sort_values(\n",
    "                                                by = 'Threshold', \n",
    "                                                ascending = True).head()"
   ]
  },
  {
   "cell_type": "code",
   "execution_count": 82,
   "metadata": {},
   "outputs": [
    {
     "name": "stdout",
     "output_type": "stream",
     "text": [
      "0.823\n"
     ]
    }
   ],
   "source": [
    "print(round(0.823232, 3))"
   ]
  },
  {
   "cell_type": "code",
   "execution_count": 83,
   "metadata": {},
   "outputs": [
    {
     "name": "stdout",
     "output_type": "stream",
     "text": [
      "Larger\n"
     ]
    }
   ],
   "source": [
    "#Quiz Question: Is this threshold value smaller or \n",
    "#larger than the threshold used for the entire \n",
    "#dataset to achieve the same specified precision of 96.5%?\n",
    "print(\"Larger\")"
   ]
  },
  {
   "cell_type": "code",
   "execution_count": 84,
   "metadata": {},
   "outputs": [
    {
     "data": {
      "image/png": "[encoded data removed]",
      "text/plain": [
       "<Figure size 504x360 with 1 Axes>"
      ]
     },
     "metadata": {},
     "output_type": "display_data"
    }
   ],
   "source": [
    "plot_pr_curve(precision_baby_all, recall_baby_all, \"Precision-Recall (Baby)\")"
   ]
  },
  {
   "cell_type": "code",
   "execution_count": null,
   "metadata": {},
   "outputs": [],
   "source": []
  },
  {
   "cell_type": "code",
   "execution_count": null,
   "metadata": {},
   "outputs": [],
   "source": []
  },
  {
   "cell_type": "code",
   "execution_count": null,
   "metadata": {},
   "outputs": [],
   "source": []
  },
  {
   "cell_type": "code",
   "execution_count": null,
   "metadata": {},
   "outputs": [],
   "source": []
  }
 ],
 "metadata": {
  "kernelspec": {
   "display_name": "Python 3",
   "language": "python",
   "name": "python3"
  },
  "language_info": {
   "codemirror_mode": {
    "name": "ipython",
    "version": 3
   },
   "file_extension": ".py",
   "mimetype": "text/x-python",
   "name": "python",
   "nbconvert_exporter": "python",
   "pygments_lexer": "ipython3",
   "version": "3.6.5"
  }
 },
 "nbformat": 4,
 "nbformat_minor": 2
}
